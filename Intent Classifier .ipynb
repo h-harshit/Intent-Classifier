{
 "cells": [
  {
   "cell_type": "markdown",
   "metadata": {},
   "source": [
    "# Import Libraries"
   ]
  },
  {
   "cell_type": "code",
   "execution_count": 1,
   "metadata": {},
   "outputs": [],
   "source": [
    "import pandas as pd\n",
    "import numpy as np\n",
    "import matplotlib.pyplot as plt\n",
    "import seaborn as sns\n",
    "import os\n",
    "import sys\n",
    "import string\n",
    "import csv\n",
    "import warnings\n",
    "warnings.filterwarnings('ignore')\n",
    "%matplotlib inline"
   ]
  },
  {
   "cell_type": "markdown",
   "metadata": {},
   "source": [
    "# Directory Declaration"
   ]
  },
  {
   "cell_type": "code",
   "execution_count": 2,
   "metadata": {},
   "outputs": [],
   "source": [
    "main_dir = r'D:\\ML Projects\\intent\\\\'\n",
    "data_dir = main_dir + 'classified_data.csv'"
   ]
  },
  {
   "cell_type": "markdown",
   "metadata": {},
   "source": [
    "# Import Dataset"
   ]
  },
  {
   "cell_type": "code",
   "execution_count": 3,
   "metadata": {},
   "outputs": [],
   "source": [
    "data_df = pd.read_csv(data_dir, encoding='ISO-8859-1', names = ['statement','intent'])"
   ]
  },
  {
   "cell_type": "code",
   "execution_count": 4,
   "metadata": {},
   "outputs": [
    {
     "data": {
      "text/html": [
       "<div>\n",
       "<style scoped>\n",
       "    .dataframe tbody tr th:only-of-type {\n",
       "        vertical-align: middle;\n",
       "    }\n",
       "\n",
       "    .dataframe tbody tr th {\n",
       "        vertical-align: top;\n",
       "    }\n",
       "\n",
       "    .dataframe thead th {\n",
       "        text-align: right;\n",
       "    }\n",
       "</style>\n",
       "<table border=\"1\" class=\"dataframe\">\n",
       "  <thead>\n",
       "    <tr style=\"text-align: right;\">\n",
       "      <th></th>\n",
       "      <th>statement</th>\n",
       "      <th>intent</th>\n",
       "    </tr>\n",
       "  </thead>\n",
       "  <tbody>\n",
       "    <tr>\n",
       "      <th>0</th>\n",
       "      <td>Need help pleese</td>\n",
       "      <td>commonQ.assist</td>\n",
       "    </tr>\n",
       "    <tr>\n",
       "      <th>1</th>\n",
       "      <td>Need help</td>\n",
       "      <td>commonQ.assist</td>\n",
       "    </tr>\n",
       "    <tr>\n",
       "      <th>2</th>\n",
       "      <td>I need some info</td>\n",
       "      <td>commonQ.assist</td>\n",
       "    </tr>\n",
       "    <tr>\n",
       "      <th>3</th>\n",
       "      <td>Will you help me?</td>\n",
       "      <td>commonQ.assist</td>\n",
       "    </tr>\n",
       "    <tr>\n",
       "      <th>4</th>\n",
       "      <td>What else can you do?</td>\n",
       "      <td>commonQ.assist</td>\n",
       "    </tr>\n",
       "  </tbody>\n",
       "</table>\n",
       "</div>"
      ],
      "text/plain": [
       "               statement          intent\n",
       "0       Need help pleese  commonQ.assist\n",
       "1              Need help  commonQ.assist\n",
       "2       I need some info  commonQ.assist\n",
       "3      Will you help me?  commonQ.assist\n",
       "4  What else can you do?  commonQ.assist"
      ]
     },
     "execution_count": 4,
     "metadata": {},
     "output_type": "execute_result"
    }
   ],
   "source": [
    "data_df.head()"
   ]
  },
  {
   "cell_type": "markdown",
   "metadata": {},
   "source": [
    "### Creation of new_data_df containing hindi statements and their corresponding intent"
   ]
  },
  {
   "cell_type": "code",
   "execution_count": 5,
   "metadata": {},
   "outputs": [],
   "source": [
    "data = pd.read_csv(main_dir+'modified_data.csv',encoding='ISO-8859-1')\n",
    "new_data_df = pd.DataFrame(columns = ['statement','intent'])\n",
    "new_data_df['statement'] = data['Hinglish']\n",
    "new_data_df['intent'] = data_df['intent']"
   ]
  },
  {
   "cell_type": "code",
   "execution_count": 6,
   "metadata": {},
   "outputs": [
    {
     "data": {
      "text/html": [
       "<div>\n",
       "<style scoped>\n",
       "    .dataframe tbody tr th:only-of-type {\n",
       "        vertical-align: middle;\n",
       "    }\n",
       "\n",
       "    .dataframe tbody tr th {\n",
       "        vertical-align: top;\n",
       "    }\n",
       "\n",
       "    .dataframe thead th {\n",
       "        text-align: right;\n",
       "    }\n",
       "</style>\n",
       "<table border=\"1\" class=\"dataframe\">\n",
       "  <thead>\n",
       "    <tr style=\"text-align: right;\">\n",
       "      <th></th>\n",
       "      <th>statement</th>\n",
       "      <th>intent</th>\n",
       "    </tr>\n",
       "  </thead>\n",
       "  <tbody>\n",
       "    <tr>\n",
       "      <th>0</th>\n",
       "      <td>plaiaisai madad kee zaroorat hai</td>\n",
       "      <td>commonQ.assist</td>\n",
       "    </tr>\n",
       "    <tr>\n",
       "      <th>1</th>\n",
       "      <td>madad chaahie</td>\n",
       "      <td>commonQ.assist</td>\n",
       "    </tr>\n",
       "    <tr>\n",
       "      <th>2</th>\n",
       "      <td>mujhe kuchh jaanakaaree chaahie</td>\n",
       "      <td>commonQ.assist</td>\n",
       "    </tr>\n",
       "    <tr>\n",
       "      <th>3</th>\n",
       "      <td>kya tum meree madad karoge?</td>\n",
       "      <td>commonQ.assist</td>\n",
       "    </tr>\n",
       "    <tr>\n",
       "      <th>4</th>\n",
       "      <td>aap aur kya kar sakate hain?</td>\n",
       "      <td>commonQ.assist</td>\n",
       "    </tr>\n",
       "  </tbody>\n",
       "</table>\n",
       "</div>"
      ],
      "text/plain": [
       "                          statement          intent\n",
       "0  plaiaisai madad kee zaroorat hai  commonQ.assist\n",
       "1                     madad chaahie  commonQ.assist\n",
       "2   mujhe kuchh jaanakaaree chaahie  commonQ.assist\n",
       "3       kya tum meree madad karoge?  commonQ.assist\n",
       "4      aap aur kya kar sakate hain?  commonQ.assist"
      ]
     },
     "execution_count": 6,
     "metadata": {},
     "output_type": "execute_result"
    }
   ],
   "source": [
    "new_data_df.head()"
   ]
  },
  {
   "cell_type": "markdown",
   "metadata": {},
   "source": [
    "## Data Statistics"
   ]
  },
  {
   "cell_type": "code",
   "execution_count": 7,
   "metadata": {},
   "outputs": [
    {
     "data": {
      "text/plain": [
       "faq.application_process       203\n",
       "contact.contact               136\n",
       "faq.borrow_use                103\n",
       "faq.biz_simpler                94\n",
       "faq.borrow_limit               76\n",
       "faq.biz_new                    68\n",
       "faq.apply_register             62\n",
       "faq.approval_time              62\n",
       "faq.address_proof              59\n",
       "faq.banking_option_missing     54\n",
       "faq.biz_category_missing       40\n",
       "faq.aadhaar_missing            35\n",
       "commonQ.bot                    26\n",
       "commonQ.assist                 20\n",
       "commonQ.name                   18\n",
       "faq.bad_service                14\n",
       "commonQ.how                    12\n",
       "commonQ.not_giving             11\n",
       "commonQ.wait                    7\n",
       "commonQ.query                   7\n",
       "commonQ.just_details            6\n",
       "Name: intent, dtype: int64"
      ]
     },
     "execution_count": 7,
     "metadata": {},
     "output_type": "execute_result"
    }
   ],
   "source": [
    "data_df['intent'].value_counts()"
   ]
  },
  {
   "cell_type": "code",
   "execution_count": 8,
   "metadata": {},
   "outputs": [
    {
     "name": "stdout",
     "output_type": "stream",
     "text": [
      "<class 'pandas.core.frame.DataFrame'>\n",
      "RangeIndex: 1113 entries, 0 to 1112\n",
      "Data columns (total 2 columns):\n",
      "statement    1113 non-null object\n",
      "intent       1113 non-null object\n",
      "dtypes: object(2)\n",
      "memory usage: 17.5+ KB\n"
     ]
    }
   ],
   "source": [
    "data_df.info()"
   ]
  },
  {
   "cell_type": "code",
   "execution_count": 9,
   "metadata": {},
   "outputs": [
    {
     "data": {
      "text/html": [
       "<div>\n",
       "<style scoped>\n",
       "    .dataframe tbody tr th:only-of-type {\n",
       "        vertical-align: middle;\n",
       "    }\n",
       "\n",
       "    .dataframe tbody tr th {\n",
       "        vertical-align: top;\n",
       "    }\n",
       "\n",
       "    .dataframe thead th {\n",
       "        text-align: right;\n",
       "    }\n",
       "</style>\n",
       "<table border=\"1\" class=\"dataframe\">\n",
       "  <thead>\n",
       "    <tr style=\"text-align: right;\">\n",
       "      <th></th>\n",
       "      <th>statement</th>\n",
       "      <th>intent</th>\n",
       "    </tr>\n",
       "  </thead>\n",
       "  <tbody>\n",
       "    <tr>\n",
       "      <th>count</th>\n",
       "      <td>1113</td>\n",
       "      <td>1113</td>\n",
       "    </tr>\n",
       "    <tr>\n",
       "      <th>unique</th>\n",
       "      <td>1107</td>\n",
       "      <td>21</td>\n",
       "    </tr>\n",
       "    <tr>\n",
       "      <th>top</th>\n",
       "      <td>How do I apply?</td>\n",
       "      <td>faq.application_process</td>\n",
       "    </tr>\n",
       "    <tr>\n",
       "      <th>freq</th>\n",
       "      <td>2</td>\n",
       "      <td>203</td>\n",
       "    </tr>\n",
       "  </tbody>\n",
       "</table>\n",
       "</div>"
      ],
      "text/plain": [
       "              statement                   intent\n",
       "count              1113                     1113\n",
       "unique             1107                       21\n",
       "top     How do I apply?  faq.application_process\n",
       "freq                  2                      203"
      ]
     },
     "execution_count": 9,
     "metadata": {},
     "output_type": "execute_result"
    }
   ],
   "source": [
    "data_df.describe()"
   ]
  },
  {
   "cell_type": "code",
   "execution_count": 10,
   "metadata": {},
   "outputs": [
    {
     "data": {
      "text/plain": [
       "statement    0\n",
       "intent       0\n",
       "dtype: int64"
      ]
     },
     "execution_count": 10,
     "metadata": {},
     "output_type": "execute_result"
    }
   ],
   "source": [
    "data_df.isnull().sum()"
   ]
  },
  {
   "cell_type": "markdown",
   "metadata": {},
   "source": [
    "# Data Preprocessing"
   ]
  },
  {
   "cell_type": "markdown",
   "metadata": {},
   "source": [
    "## Removal of punctuation"
   ]
  },
  {
   "cell_type": "code",
   "execution_count": 11,
   "metadata": {},
   "outputs": [
    {
     "data": {
      "text/plain": [
       "'!\"#$%&\\'()*+,-./:;<=>?@[\\\\]^_`{|}~'"
      ]
     },
     "execution_count": 11,
     "metadata": {},
     "output_type": "execute_result"
    }
   ],
   "source": [
    "string.punctuation"
   ]
  },
  {
   "cell_type": "code",
   "execution_count": 12,
   "metadata": {},
   "outputs": [],
   "source": [
    "punc = string.punctuation"
   ]
  },
  {
   "cell_type": "code",
   "execution_count": 13,
   "metadata": {},
   "outputs": [],
   "source": [
    "def rem_punc(row):\n",
    "    no_punc = [elem for elem in row if elem not in string.punctuation]\n",
    "    row = ''.join(no_punc)\n",
    "    return row"
   ]
  },
  {
   "cell_type": "code",
   "execution_count": 91,
   "metadata": {},
   "outputs": [],
   "source": [
    "data_df['statement'] = data_df['statement'].apply(rem_punc)\n",
    "new_data_df['statement'] = new_data_df['statement'].apply(rem_punc)"
   ]
  },
  {
   "cell_type": "code",
   "execution_count": 15,
   "metadata": {},
   "outputs": [
    {
     "data": {
      "text/html": [
       "<div>\n",
       "<style scoped>\n",
       "    .dataframe tbody tr th:only-of-type {\n",
       "        vertical-align: middle;\n",
       "    }\n",
       "\n",
       "    .dataframe tbody tr th {\n",
       "        vertical-align: top;\n",
       "    }\n",
       "\n",
       "    .dataframe thead th {\n",
       "        text-align: right;\n",
       "    }\n",
       "</style>\n",
       "<table border=\"1\" class=\"dataframe\">\n",
       "  <thead>\n",
       "    <tr style=\"text-align: right;\">\n",
       "      <th></th>\n",
       "      <th>statement</th>\n",
       "      <th>intent</th>\n",
       "    </tr>\n",
       "  </thead>\n",
       "  <tbody>\n",
       "    <tr>\n",
       "      <th>0</th>\n",
       "      <td>Need help pleese</td>\n",
       "      <td>commonQ.assist</td>\n",
       "    </tr>\n",
       "    <tr>\n",
       "      <th>1</th>\n",
       "      <td>Need help</td>\n",
       "      <td>commonQ.assist</td>\n",
       "    </tr>\n",
       "    <tr>\n",
       "      <th>2</th>\n",
       "      <td>I need some info</td>\n",
       "      <td>commonQ.assist</td>\n",
       "    </tr>\n",
       "    <tr>\n",
       "      <th>3</th>\n",
       "      <td>Will you help me</td>\n",
       "      <td>commonQ.assist</td>\n",
       "    </tr>\n",
       "    <tr>\n",
       "      <th>4</th>\n",
       "      <td>What else can you do</td>\n",
       "      <td>commonQ.assist</td>\n",
       "    </tr>\n",
       "  </tbody>\n",
       "</table>\n",
       "</div>"
      ],
      "text/plain": [
       "              statement          intent\n",
       "0      Need help pleese  commonQ.assist\n",
       "1             Need help  commonQ.assist\n",
       "2      I need some info  commonQ.assist\n",
       "3      Will you help me  commonQ.assist\n",
       "4  What else can you do  commonQ.assist"
      ]
     },
     "execution_count": 15,
     "metadata": {},
     "output_type": "execute_result"
    }
   ],
   "source": [
    "data_df.head()"
   ]
  },
  {
   "cell_type": "markdown",
   "metadata": {},
   "source": [
    "## Tokenizing"
   ]
  },
  {
   "cell_type": "code",
   "execution_count": 16,
   "metadata": {},
   "outputs": [
    {
     "name": "stdout",
     "output_type": "stream",
     "text": [
      "[nltk_data] Downloading package punkt to\n",
      "[nltk_data]     C:\\Users\\hharshit\\AppData\\Roaming\\nltk_data...\n",
      "[nltk_data]   Package punkt is already up-to-date!\n"
     ]
    },
    {
     "data": {
      "text/plain": [
       "True"
      ]
     },
     "execution_count": 16,
     "metadata": {},
     "output_type": "execute_result"
    }
   ],
   "source": [
    "from nltk.corpus import stopwords\n",
    "from nltk.tokenize import word_tokenize\n",
    "import nltk\n",
    "nltk.download('punkt')"
   ]
  },
  {
   "cell_type": "code",
   "execution_count": 17,
   "metadata": {},
   "outputs": [],
   "source": [
    "data_df['statement'] = data_df['statement'].apply(lambda col: word_tokenize(col))"
   ]
  },
  {
   "cell_type": "markdown",
   "metadata": {},
   "source": [
    "## Removal of Stopwords"
   ]
  },
  {
   "cell_type": "code",
   "execution_count": 18,
   "metadata": {},
   "outputs": [],
   "source": [
    "Stopwords = stopwords.words('english')"
   ]
  },
  {
   "cell_type": "markdown",
   "metadata": {},
   "source": [
    "#### I would advise against removal of stopwords as it substantially affects the accuracy. "
   ]
  },
  {
   "cell_type": "code",
   "execution_count": 19,
   "metadata": {},
   "outputs": [],
   "source": [
    "#data_df['statement'] = data_df['statement'].apply(lambda col: [word for word in col if word.lower() not in Stopwords])"
   ]
  },
  {
   "cell_type": "code",
   "execution_count": 20,
   "metadata": {},
   "outputs": [
    {
     "data": {
      "text/html": [
       "<div>\n",
       "<style scoped>\n",
       "    .dataframe tbody tr th:only-of-type {\n",
       "        vertical-align: middle;\n",
       "    }\n",
       "\n",
       "    .dataframe tbody tr th {\n",
       "        vertical-align: top;\n",
       "    }\n",
       "\n",
       "    .dataframe thead th {\n",
       "        text-align: right;\n",
       "    }\n",
       "</style>\n",
       "<table border=\"1\" class=\"dataframe\">\n",
       "  <thead>\n",
       "    <tr style=\"text-align: right;\">\n",
       "      <th></th>\n",
       "      <th>statement</th>\n",
       "      <th>intent</th>\n",
       "    </tr>\n",
       "  </thead>\n",
       "  <tbody>\n",
       "    <tr>\n",
       "      <th>0</th>\n",
       "      <td>[Need, help, pleese]</td>\n",
       "      <td>commonQ.assist</td>\n",
       "    </tr>\n",
       "    <tr>\n",
       "      <th>1</th>\n",
       "      <td>[Need, help]</td>\n",
       "      <td>commonQ.assist</td>\n",
       "    </tr>\n",
       "    <tr>\n",
       "      <th>2</th>\n",
       "      <td>[I, need, some, info]</td>\n",
       "      <td>commonQ.assist</td>\n",
       "    </tr>\n",
       "    <tr>\n",
       "      <th>3</th>\n",
       "      <td>[Will, you, help, me]</td>\n",
       "      <td>commonQ.assist</td>\n",
       "    </tr>\n",
       "    <tr>\n",
       "      <th>4</th>\n",
       "      <td>[What, else, can, you, do]</td>\n",
       "      <td>commonQ.assist</td>\n",
       "    </tr>\n",
       "  </tbody>\n",
       "</table>\n",
       "</div>"
      ],
      "text/plain": [
       "                    statement          intent\n",
       "0        [Need, help, pleese]  commonQ.assist\n",
       "1                [Need, help]  commonQ.assist\n",
       "2       [I, need, some, info]  commonQ.assist\n",
       "3       [Will, you, help, me]  commonQ.assist\n",
       "4  [What, else, can, you, do]  commonQ.assist"
      ]
     },
     "execution_count": 20,
     "metadata": {},
     "output_type": "execute_result"
    }
   ],
   "source": [
    "data_df.head()"
   ]
  },
  {
   "cell_type": "code",
   "execution_count": 21,
   "metadata": {},
   "outputs": [],
   "source": [
    "data_df['statement'] = data_df['statement'].apply(lambda row: [word.lower() for word in row])"
   ]
  },
  {
   "cell_type": "markdown",
   "metadata": {},
   "source": [
    "## Lemmatization"
   ]
  },
  {
   "cell_type": "code",
   "execution_count": 22,
   "metadata": {},
   "outputs": [],
   "source": [
    "from nltk.corpus import words\n",
    "from nltk.stem import WordNetLemmatizer"
   ]
  },
  {
   "cell_type": "code",
   "execution_count": 23,
   "metadata": {},
   "outputs": [],
   "source": [
    "lemmatizer = WordNetLemmatizer()\n",
    "data_df['statement'] = data_df['statement'].apply(lambda row:[lemmatizer.lemmatize(word) for word in row])"
   ]
  },
  {
   "cell_type": "code",
   "execution_count": 24,
   "metadata": {},
   "outputs": [
    {
     "data": {
      "text/html": [
       "<div>\n",
       "<style scoped>\n",
       "    .dataframe tbody tr th:only-of-type {\n",
       "        vertical-align: middle;\n",
       "    }\n",
       "\n",
       "    .dataframe tbody tr th {\n",
       "        vertical-align: top;\n",
       "    }\n",
       "\n",
       "    .dataframe thead th {\n",
       "        text-align: right;\n",
       "    }\n",
       "</style>\n",
       "<table border=\"1\" class=\"dataframe\">\n",
       "  <thead>\n",
       "    <tr style=\"text-align: right;\">\n",
       "      <th></th>\n",
       "      <th>statement</th>\n",
       "      <th>intent</th>\n",
       "    </tr>\n",
       "  </thead>\n",
       "  <tbody>\n",
       "    <tr>\n",
       "      <th>0</th>\n",
       "      <td>[need, help, pleese]</td>\n",
       "      <td>commonQ.assist</td>\n",
       "    </tr>\n",
       "    <tr>\n",
       "      <th>1</th>\n",
       "      <td>[need, help]</td>\n",
       "      <td>commonQ.assist</td>\n",
       "    </tr>\n",
       "    <tr>\n",
       "      <th>2</th>\n",
       "      <td>[i, need, some, info]</td>\n",
       "      <td>commonQ.assist</td>\n",
       "    </tr>\n",
       "    <tr>\n",
       "      <th>3</th>\n",
       "      <td>[will, you, help, me]</td>\n",
       "      <td>commonQ.assist</td>\n",
       "    </tr>\n",
       "    <tr>\n",
       "      <th>4</th>\n",
       "      <td>[what, else, can, you, do]</td>\n",
       "      <td>commonQ.assist</td>\n",
       "    </tr>\n",
       "  </tbody>\n",
       "</table>\n",
       "</div>"
      ],
      "text/plain": [
       "                    statement          intent\n",
       "0        [need, help, pleese]  commonQ.assist\n",
       "1                [need, help]  commonQ.assist\n",
       "2       [i, need, some, info]  commonQ.assist\n",
       "3       [will, you, help, me]  commonQ.assist\n",
       "4  [what, else, can, you, do]  commonQ.assist"
      ]
     },
     "execution_count": 24,
     "metadata": {},
     "output_type": "execute_result"
    }
   ],
   "source": [
    "data_df.head(5)"
   ]
  },
  {
   "cell_type": "markdown",
   "metadata": {},
   "source": [
    "## Stemming"
   ]
  },
  {
   "cell_type": "code",
   "execution_count": 25,
   "metadata": {},
   "outputs": [],
   "source": [
    "from nltk.stem.porter import PorterStemmer"
   ]
  },
  {
   "cell_type": "code",
   "execution_count": 26,
   "metadata": {},
   "outputs": [],
   "source": [
    "porter_stemmer = PorterStemmer()\n",
    "data_df['statement'] = data_df['statement'].apply(lambda row:[porter_stemmer.stem(word) for word in row])"
   ]
  },
  {
   "cell_type": "code",
   "execution_count": 27,
   "metadata": {},
   "outputs": [
    {
     "data": {
      "text/html": [
       "<div>\n",
       "<style scoped>\n",
       "    .dataframe tbody tr th:only-of-type {\n",
       "        vertical-align: middle;\n",
       "    }\n",
       "\n",
       "    .dataframe tbody tr th {\n",
       "        vertical-align: top;\n",
       "    }\n",
       "\n",
       "    .dataframe thead th {\n",
       "        text-align: right;\n",
       "    }\n",
       "</style>\n",
       "<table border=\"1\" class=\"dataframe\">\n",
       "  <thead>\n",
       "    <tr style=\"text-align: right;\">\n",
       "      <th></th>\n",
       "      <th>statement</th>\n",
       "      <th>intent</th>\n",
       "    </tr>\n",
       "  </thead>\n",
       "  <tbody>\n",
       "    <tr>\n",
       "      <th>0</th>\n",
       "      <td>[need, help, plees]</td>\n",
       "      <td>commonQ.assist</td>\n",
       "    </tr>\n",
       "    <tr>\n",
       "      <th>1</th>\n",
       "      <td>[need, help]</td>\n",
       "      <td>commonQ.assist</td>\n",
       "    </tr>\n",
       "    <tr>\n",
       "      <th>2</th>\n",
       "      <td>[i, need, some, info]</td>\n",
       "      <td>commonQ.assist</td>\n",
       "    </tr>\n",
       "    <tr>\n",
       "      <th>3</th>\n",
       "      <td>[will, you, help, me]</td>\n",
       "      <td>commonQ.assist</td>\n",
       "    </tr>\n",
       "    <tr>\n",
       "      <th>4</th>\n",
       "      <td>[what, els, can, you, do]</td>\n",
       "      <td>commonQ.assist</td>\n",
       "    </tr>\n",
       "  </tbody>\n",
       "</table>\n",
       "</div>"
      ],
      "text/plain": [
       "                   statement          intent\n",
       "0        [need, help, plees]  commonQ.assist\n",
       "1               [need, help]  commonQ.assist\n",
       "2      [i, need, some, info]  commonQ.assist\n",
       "3      [will, you, help, me]  commonQ.assist\n",
       "4  [what, els, can, you, do]  commonQ.assist"
      ]
     },
     "execution_count": 27,
     "metadata": {},
     "output_type": "execute_result"
    }
   ],
   "source": [
    "data_df.head()"
   ]
  },
  {
   "cell_type": "markdown",
   "metadata": {},
   "source": [
    "## Spell Correction"
   ]
  },
  {
   "cell_type": "code",
   "execution_count": 28,
   "metadata": {},
   "outputs": [],
   "source": [
    "from textblob import TextBlob"
   ]
  },
  {
   "cell_type": "code",
   "execution_count": 29,
   "metadata": {},
   "outputs": [],
   "source": [
    "data_df['statement'] = data_df['statement'].apply(lambda row:[str(TextBlob(word).correct()) for word in row])"
   ]
  },
  {
   "cell_type": "code",
   "execution_count": 30,
   "metadata": {},
   "outputs": [],
   "source": [
    "data_df['statement'] = data_df['statement'].apply(lambda row: \" \".join(row))"
   ]
  },
  {
   "cell_type": "code",
   "execution_count": 31,
   "metadata": {},
   "outputs": [
    {
     "data": {
      "text/html": [
       "<div>\n",
       "<style scoped>\n",
       "    .dataframe tbody tr th:only-of-type {\n",
       "        vertical-align: middle;\n",
       "    }\n",
       "\n",
       "    .dataframe tbody tr th {\n",
       "        vertical-align: top;\n",
       "    }\n",
       "\n",
       "    .dataframe thead th {\n",
       "        text-align: right;\n",
       "    }\n",
       "</style>\n",
       "<table border=\"1\" class=\"dataframe\">\n",
       "  <thead>\n",
       "    <tr style=\"text-align: right;\">\n",
       "      <th></th>\n",
       "      <th>statement</th>\n",
       "      <th>intent</th>\n",
       "    </tr>\n",
       "  </thead>\n",
       "  <tbody>\n",
       "    <tr>\n",
       "      <th>0</th>\n",
       "      <td>need help pleas</td>\n",
       "      <td>commonQ.assist</td>\n",
       "    </tr>\n",
       "    <tr>\n",
       "      <th>1</th>\n",
       "      <td>need help</td>\n",
       "      <td>commonQ.assist</td>\n",
       "    </tr>\n",
       "    <tr>\n",
       "      <th>2</th>\n",
       "      <td>i need some into</td>\n",
       "      <td>commonQ.assist</td>\n",
       "    </tr>\n",
       "    <tr>\n",
       "      <th>3</th>\n",
       "      <td>will you help me</td>\n",
       "      <td>commonQ.assist</td>\n",
       "    </tr>\n",
       "    <tr>\n",
       "      <th>4</th>\n",
       "      <td>what else can you do</td>\n",
       "      <td>commonQ.assist</td>\n",
       "    </tr>\n",
       "  </tbody>\n",
       "</table>\n",
       "</div>"
      ],
      "text/plain": [
       "              statement          intent\n",
       "0       need help pleas  commonQ.assist\n",
       "1             need help  commonQ.assist\n",
       "2      i need some into  commonQ.assist\n",
       "3      will you help me  commonQ.assist\n",
       "4  what else can you do  commonQ.assist"
      ]
     },
     "execution_count": 31,
     "metadata": {},
     "output_type": "execute_result"
    }
   ],
   "source": [
    "data_df.head()"
   ]
  },
  {
   "cell_type": "markdown",
   "metadata": {},
   "source": [
    "### Concatenation of the data frames with english and hindi dataframes"
   ]
  },
  {
   "cell_type": "code",
   "execution_count": 92,
   "metadata": {},
   "outputs": [],
   "source": [
    "# Concatenation was performed after spell check because spell check will alter the entire hindi words in dataframe\n",
    "data_df = pd.concat([data_df,new_data_df],ignore_index=True)"
   ]
  },
  {
   "cell_type": "markdown",
   "metadata": {},
   "source": [
    "# Feature Engineering\n",
    "\n",
    "In this step raw text data will be transferred into feature vectors. I have implemented the following different methods in order to obtain relevant features from the dataset.\n",
    "\n",
    "1. Count Vectors as features\n",
    "2. TF-IDF as features<br>\n",
    "    -> Word level <br>\n",
    "    -> n-gram level <br>\n",
    "    -> character level<br>\n",
    "   "
   ]
  },
  {
   "cell_type": "markdown",
   "metadata": {},
   "source": [
    "## Count Vectorizer"
   ]
  },
  {
   "cell_type": "code",
   "execution_count": 93,
   "metadata": {},
   "outputs": [],
   "source": [
    "from sklearn.feature_extraction.text import CountVectorizer\n",
    "corpus = [row[1] for row in data_df['statement'].iteritems()]\n",
    "\n",
    "vect = CountVectorizer()\n",
    "X = vect.fit_transform(corpus)\n",
    "\n",
    "names = vect.get_feature_names()\n",
    "vect_df = pd.DataFrame(X.todense(),columns = names)"
   ]
  },
  {
   "cell_type": "code",
   "execution_count": 94,
   "metadata": {},
   "outputs": [
    {
     "data": {
      "text/html": [
       "<div>\n",
       "<style scoped>\n",
       "    .dataframe tbody tr th:only-of-type {\n",
       "        vertical-align: middle;\n",
       "    }\n",
       "\n",
       "    .dataframe tbody tr th {\n",
       "        vertical-align: top;\n",
       "    }\n",
       "\n",
       "    .dataframe thead th {\n",
       "        text-align: right;\n",
       "    }\n",
       "</style>\n",
       "<table border=\"1\" class=\"dataframe\">\n",
       "  <thead>\n",
       "    <tr style=\"text-align: right;\">\n",
       "      <th></th>\n",
       "      <th>99</th>\n",
       "      <th>999</th>\n",
       "      <th>999999999</th>\n",
       "      <th>9999999999</th>\n",
       "      <th>aadhaar</th>\n",
       "      <th>aadhaarit</th>\n",
       "      <th>aaeedee</th>\n",
       "      <th>aage</th>\n",
       "      <th>aana</th>\n",
       "      <th>aane</th>\n",
       "      <th>...</th>\n",
       "      <th>ya</th>\n",
       "      <th>yadi</th>\n",
       "      <th>yah</th>\n",
       "      <th>yahaan</th>\n",
       "      <th>ye</th>\n",
       "      <th>year</th>\n",
       "      <th>yojana</th>\n",
       "      <th>you</th>\n",
       "      <th>your</th>\n",
       "      <th>zaroorat</th>\n",
       "    </tr>\n",
       "  </thead>\n",
       "  <tbody>\n",
       "    <tr>\n",
       "      <th>0</th>\n",
       "      <td>0</td>\n",
       "      <td>0</td>\n",
       "      <td>0</td>\n",
       "      <td>0</td>\n",
       "      <td>0</td>\n",
       "      <td>0</td>\n",
       "      <td>0</td>\n",
       "      <td>0</td>\n",
       "      <td>0</td>\n",
       "      <td>0</td>\n",
       "      <td>...</td>\n",
       "      <td>0</td>\n",
       "      <td>0</td>\n",
       "      <td>0</td>\n",
       "      <td>0</td>\n",
       "      <td>0</td>\n",
       "      <td>0</td>\n",
       "      <td>0</td>\n",
       "      <td>0</td>\n",
       "      <td>0</td>\n",
       "      <td>0</td>\n",
       "    </tr>\n",
       "    <tr>\n",
       "      <th>1</th>\n",
       "      <td>0</td>\n",
       "      <td>0</td>\n",
       "      <td>0</td>\n",
       "      <td>0</td>\n",
       "      <td>0</td>\n",
       "      <td>0</td>\n",
       "      <td>0</td>\n",
       "      <td>0</td>\n",
       "      <td>0</td>\n",
       "      <td>0</td>\n",
       "      <td>...</td>\n",
       "      <td>0</td>\n",
       "      <td>0</td>\n",
       "      <td>0</td>\n",
       "      <td>0</td>\n",
       "      <td>0</td>\n",
       "      <td>0</td>\n",
       "      <td>0</td>\n",
       "      <td>0</td>\n",
       "      <td>0</td>\n",
       "      <td>0</td>\n",
       "    </tr>\n",
       "    <tr>\n",
       "      <th>2</th>\n",
       "      <td>0</td>\n",
       "      <td>0</td>\n",
       "      <td>0</td>\n",
       "      <td>0</td>\n",
       "      <td>0</td>\n",
       "      <td>0</td>\n",
       "      <td>0</td>\n",
       "      <td>0</td>\n",
       "      <td>0</td>\n",
       "      <td>0</td>\n",
       "      <td>...</td>\n",
       "      <td>0</td>\n",
       "      <td>0</td>\n",
       "      <td>0</td>\n",
       "      <td>0</td>\n",
       "      <td>0</td>\n",
       "      <td>0</td>\n",
       "      <td>0</td>\n",
       "      <td>0</td>\n",
       "      <td>0</td>\n",
       "      <td>0</td>\n",
       "    </tr>\n",
       "    <tr>\n",
       "      <th>3</th>\n",
       "      <td>0</td>\n",
       "      <td>0</td>\n",
       "      <td>0</td>\n",
       "      <td>0</td>\n",
       "      <td>0</td>\n",
       "      <td>0</td>\n",
       "      <td>0</td>\n",
       "      <td>0</td>\n",
       "      <td>0</td>\n",
       "      <td>0</td>\n",
       "      <td>...</td>\n",
       "      <td>0</td>\n",
       "      <td>0</td>\n",
       "      <td>0</td>\n",
       "      <td>0</td>\n",
       "      <td>0</td>\n",
       "      <td>0</td>\n",
       "      <td>0</td>\n",
       "      <td>1</td>\n",
       "      <td>0</td>\n",
       "      <td>0</td>\n",
       "    </tr>\n",
       "    <tr>\n",
       "      <th>4</th>\n",
       "      <td>0</td>\n",
       "      <td>0</td>\n",
       "      <td>0</td>\n",
       "      <td>0</td>\n",
       "      <td>0</td>\n",
       "      <td>0</td>\n",
       "      <td>0</td>\n",
       "      <td>0</td>\n",
       "      <td>0</td>\n",
       "      <td>0</td>\n",
       "      <td>...</td>\n",
       "      <td>0</td>\n",
       "      <td>0</td>\n",
       "      <td>0</td>\n",
       "      <td>0</td>\n",
       "      <td>0</td>\n",
       "      <td>0</td>\n",
       "      <td>0</td>\n",
       "      <td>1</td>\n",
       "      <td>0</td>\n",
       "      <td>0</td>\n",
       "    </tr>\n",
       "  </tbody>\n",
       "</table>\n",
       "<p>5 rows × 946 columns</p>\n",
       "</div>"
      ],
      "text/plain": [
       "   99  999  999999999  9999999999  aadhaar  aadhaarit  aaeedee  aage  aana  \\\n",
       "0   0    0          0           0        0          0        0     0     0   \n",
       "1   0    0          0           0        0          0        0     0     0   \n",
       "2   0    0          0           0        0          0        0     0     0   \n",
       "3   0    0          0           0        0          0        0     0     0   \n",
       "4   0    0          0           0        0          0        0     0     0   \n",
       "\n",
       "   aane    ...     ya  yadi  yah  yahaan  ye  year  yojana  you  your  \\\n",
       "0     0    ...      0     0    0       0   0     0       0    0     0   \n",
       "1     0    ...      0     0    0       0   0     0       0    0     0   \n",
       "2     0    ...      0     0    0       0   0     0       0    0     0   \n",
       "3     0    ...      0     0    0       0   0     0       0    1     0   \n",
       "4     0    ...      0     0    0       0   0     0       0    1     0   \n",
       "\n",
       "   zaroorat  \n",
       "0         0  \n",
       "1         0  \n",
       "2         0  \n",
       "3         0  \n",
       "4         0  \n",
       "\n",
       "[5 rows x 946 columns]"
      ]
     },
     "execution_count": 94,
     "metadata": {},
     "output_type": "execute_result"
    }
   ],
   "source": [
    "vect_df.head()"
   ]
  },
  {
   "cell_type": "code",
   "execution_count": 97,
   "metadata": {},
   "outputs": [
    {
     "data": {
      "text/html": [
       "<div>\n",
       "<style scoped>\n",
       "    .dataframe tbody tr th:only-of-type {\n",
       "        vertical-align: middle;\n",
       "    }\n",
       "\n",
       "    .dataframe tbody tr th {\n",
       "        vertical-align: top;\n",
       "    }\n",
       "\n",
       "    .dataframe thead th {\n",
       "        text-align: right;\n",
       "    }\n",
       "</style>\n",
       "<table border=\"1\" class=\"dataframe\">\n",
       "  <thead>\n",
       "    <tr style=\"text-align: right;\">\n",
       "      <th></th>\n",
       "      <th>aadhaar</th>\n",
       "      <th>aadhaarit</th>\n",
       "      <th>aaeedee</th>\n",
       "      <th>aage</th>\n",
       "      <th>aana</th>\n",
       "      <th>aane</th>\n",
       "      <th>aap</th>\n",
       "      <th>aapaka</th>\n",
       "      <th>aapake</th>\n",
       "      <th>aapakee</th>\n",
       "      <th>...</th>\n",
       "      <th>ya</th>\n",
       "      <th>yadi</th>\n",
       "      <th>yah</th>\n",
       "      <th>yahaan</th>\n",
       "      <th>ye</th>\n",
       "      <th>year</th>\n",
       "      <th>yojana</th>\n",
       "      <th>you</th>\n",
       "      <th>your</th>\n",
       "      <th>zaroorat</th>\n",
       "    </tr>\n",
       "  </thead>\n",
       "  <tbody>\n",
       "    <tr>\n",
       "      <th>0</th>\n",
       "      <td>0</td>\n",
       "      <td>0</td>\n",
       "      <td>0</td>\n",
       "      <td>0</td>\n",
       "      <td>0</td>\n",
       "      <td>0</td>\n",
       "      <td>0</td>\n",
       "      <td>0</td>\n",
       "      <td>0</td>\n",
       "      <td>0</td>\n",
       "      <td>...</td>\n",
       "      <td>0</td>\n",
       "      <td>0</td>\n",
       "      <td>0</td>\n",
       "      <td>0</td>\n",
       "      <td>0</td>\n",
       "      <td>0</td>\n",
       "      <td>0</td>\n",
       "      <td>0</td>\n",
       "      <td>0</td>\n",
       "      <td>0</td>\n",
       "    </tr>\n",
       "    <tr>\n",
       "      <th>1</th>\n",
       "      <td>0</td>\n",
       "      <td>0</td>\n",
       "      <td>0</td>\n",
       "      <td>0</td>\n",
       "      <td>0</td>\n",
       "      <td>0</td>\n",
       "      <td>0</td>\n",
       "      <td>0</td>\n",
       "      <td>0</td>\n",
       "      <td>0</td>\n",
       "      <td>...</td>\n",
       "      <td>0</td>\n",
       "      <td>0</td>\n",
       "      <td>0</td>\n",
       "      <td>0</td>\n",
       "      <td>0</td>\n",
       "      <td>0</td>\n",
       "      <td>0</td>\n",
       "      <td>0</td>\n",
       "      <td>0</td>\n",
       "      <td>0</td>\n",
       "    </tr>\n",
       "    <tr>\n",
       "      <th>2</th>\n",
       "      <td>0</td>\n",
       "      <td>0</td>\n",
       "      <td>0</td>\n",
       "      <td>0</td>\n",
       "      <td>0</td>\n",
       "      <td>0</td>\n",
       "      <td>0</td>\n",
       "      <td>0</td>\n",
       "      <td>0</td>\n",
       "      <td>0</td>\n",
       "      <td>...</td>\n",
       "      <td>0</td>\n",
       "      <td>0</td>\n",
       "      <td>0</td>\n",
       "      <td>0</td>\n",
       "      <td>0</td>\n",
       "      <td>0</td>\n",
       "      <td>0</td>\n",
       "      <td>0</td>\n",
       "      <td>0</td>\n",
       "      <td>0</td>\n",
       "    </tr>\n",
       "    <tr>\n",
       "      <th>3</th>\n",
       "      <td>0</td>\n",
       "      <td>0</td>\n",
       "      <td>0</td>\n",
       "      <td>0</td>\n",
       "      <td>0</td>\n",
       "      <td>0</td>\n",
       "      <td>0</td>\n",
       "      <td>0</td>\n",
       "      <td>0</td>\n",
       "      <td>0</td>\n",
       "      <td>...</td>\n",
       "      <td>0</td>\n",
       "      <td>0</td>\n",
       "      <td>0</td>\n",
       "      <td>0</td>\n",
       "      <td>0</td>\n",
       "      <td>0</td>\n",
       "      <td>0</td>\n",
       "      <td>1</td>\n",
       "      <td>0</td>\n",
       "      <td>0</td>\n",
       "    </tr>\n",
       "    <tr>\n",
       "      <th>4</th>\n",
       "      <td>0</td>\n",
       "      <td>0</td>\n",
       "      <td>0</td>\n",
       "      <td>0</td>\n",
       "      <td>0</td>\n",
       "      <td>0</td>\n",
       "      <td>0</td>\n",
       "      <td>0</td>\n",
       "      <td>0</td>\n",
       "      <td>0</td>\n",
       "      <td>...</td>\n",
       "      <td>0</td>\n",
       "      <td>0</td>\n",
       "      <td>0</td>\n",
       "      <td>0</td>\n",
       "      <td>0</td>\n",
       "      <td>0</td>\n",
       "      <td>0</td>\n",
       "      <td>1</td>\n",
       "      <td>0</td>\n",
       "      <td>0</td>\n",
       "    </tr>\n",
       "  </tbody>\n",
       "</table>\n",
       "<p>5 rows × 942 columns</p>\n",
       "</div>"
      ],
      "text/plain": [
       "   aadhaar  aadhaarit  aaeedee  aage  aana  aane  aap  aapaka  aapake  \\\n",
       "0        0          0        0     0     0     0    0       0       0   \n",
       "1        0          0        0     0     0     0    0       0       0   \n",
       "2        0          0        0     0     0     0    0       0       0   \n",
       "3        0          0        0     0     0     0    0       0       0   \n",
       "4        0          0        0     0     0     0    0       0       0   \n",
       "\n",
       "   aapakee    ...     ya  yadi  yah  yahaan  ye  year  yojana  you  your  \\\n",
       "0        0    ...      0     0    0       0   0     0       0    0     0   \n",
       "1        0    ...      0     0    0       0   0     0       0    0     0   \n",
       "2        0    ...      0     0    0       0   0     0       0    0     0   \n",
       "3        0    ...      0     0    0       0   0     0       0    1     0   \n",
       "4        0    ...      0     0    0       0   0     0       0    1     0   \n",
       "\n",
       "   zaroorat  \n",
       "0         0  \n",
       "1         0  \n",
       "2         0  \n",
       "3         0  \n",
       "4         0  \n",
       "\n",
       "[5 rows x 942 columns]"
      ]
     },
     "execution_count": 97,
     "metadata": {},
     "output_type": "execute_result"
    }
   ],
   "source": [
    "# Dropped columns with numerical values as they seemed pretty irrelevant\n",
    "vect_df.drop(['99','999','999999999','9999999999'],axis=1,inplace=True)\n",
    "vect_df.head()"
   ]
  },
  {
   "cell_type": "code",
   "execution_count": 36,
   "metadata": {},
   "outputs": [
    {
     "name": "stdout",
     "output_type": "stream",
     "text": [
      "[[0 0 0 ... 0 0 0]\n",
      " [0 0 0 ... 0 0 0]\n",
      " [0 0 0 ... 0 0 0]\n",
      " ...\n",
      " [0 0 0 ... 0 0 0]\n",
      " [0 0 0 ... 0 0 0]\n",
      " [0 0 0 ... 0 0 0]]\n"
     ]
    }
   ],
   "source": [
    "# Feature vector\n",
    "print(X.toarray())"
   ]
  },
  {
   "cell_type": "code",
   "execution_count": 37,
   "metadata": {},
   "outputs": [
    {
     "data": {
      "text/plain": [
       "(2226, 945)"
      ]
     },
     "execution_count": 37,
     "metadata": {},
     "output_type": "execute_result"
    }
   ],
   "source": [
    "X.toarray().shape"
   ]
  },
  {
   "cell_type": "code",
   "execution_count": 38,
   "metadata": {},
   "outputs": [],
   "source": [
    "data_df['statement'] = data_df['statement'].apply(rem_punc)"
   ]
  },
  {
   "cell_type": "markdown",
   "metadata": {},
   "source": [
    "## TF-IDF Vectors as features"
   ]
  },
  {
   "cell_type": "markdown",
   "metadata": {},
   "source": [
    "### Word level tf-idf"
   ]
  },
  {
   "cell_type": "code",
   "execution_count": 99,
   "metadata": {},
   "outputs": [
    {
     "name": "stdout",
     "output_type": "stream",
     "text": [
      "[[0. 0. 0. ... 0. 0. 0.]\n",
      " [0. 0. 0. ... 0. 0. 0.]\n",
      " [0. 0. 0. ... 0. 0. 0.]\n",
      " ...\n",
      " [0. 0. 0. ... 0. 0. 0.]\n",
      " [0. 0. 0. ... 0. 0. 0.]\n",
      " [0. 0. 0. ... 0. 0. 0.]]\n"
     ]
    }
   ],
   "source": [
    "from sklearn.feature_extraction.text import TfidfVectorizer\n",
    "\n",
    "corpus = [row[1] for row in data_df['statement'].iteritems()]\n",
    "tfidf_vect = TfidfVectorizer()\n",
    "X_tfidf = tfidf_vect.fit_transform(corpus)\n",
    "\n",
    "names = tfidf_vect.get_feature_names()\n",
    "print(X_tfidf.toarray())"
   ]
  },
  {
   "cell_type": "code",
   "execution_count": 100,
   "metadata": {},
   "outputs": [
    {
     "data": {
      "text/html": [
       "<div>\n",
       "<style scoped>\n",
       "    .dataframe tbody tr th:only-of-type {\n",
       "        vertical-align: middle;\n",
       "    }\n",
       "\n",
       "    .dataframe tbody tr th {\n",
       "        vertical-align: top;\n",
       "    }\n",
       "\n",
       "    .dataframe thead th {\n",
       "        text-align: right;\n",
       "    }\n",
       "</style>\n",
       "<table border=\"1\" class=\"dataframe\">\n",
       "  <thead>\n",
       "    <tr style=\"text-align: right;\">\n",
       "      <th></th>\n",
       "      <th>aadhaar</th>\n",
       "      <th>aadhaarit</th>\n",
       "      <th>aaeedee</th>\n",
       "      <th>aage</th>\n",
       "      <th>aana</th>\n",
       "      <th>aane</th>\n",
       "      <th>aap</th>\n",
       "      <th>aapaka</th>\n",
       "      <th>aapake</th>\n",
       "      <th>aapakee</th>\n",
       "      <th>...</th>\n",
       "      <th>ya</th>\n",
       "      <th>yadi</th>\n",
       "      <th>yah</th>\n",
       "      <th>yahaan</th>\n",
       "      <th>ye</th>\n",
       "      <th>year</th>\n",
       "      <th>yojana</th>\n",
       "      <th>you</th>\n",
       "      <th>your</th>\n",
       "      <th>zaroorat</th>\n",
       "    </tr>\n",
       "  </thead>\n",
       "  <tbody>\n",
       "    <tr>\n",
       "      <th>0</th>\n",
       "      <td>0.0</td>\n",
       "      <td>0.0</td>\n",
       "      <td>0.0</td>\n",
       "      <td>0.0</td>\n",
       "      <td>0.0</td>\n",
       "      <td>0.0</td>\n",
       "      <td>0.0</td>\n",
       "      <td>0.0</td>\n",
       "      <td>0.0</td>\n",
       "      <td>0.0</td>\n",
       "      <td>...</td>\n",
       "      <td>0.0</td>\n",
       "      <td>0.0</td>\n",
       "      <td>0.0</td>\n",
       "      <td>0.0</td>\n",
       "      <td>0.0</td>\n",
       "      <td>0.0</td>\n",
       "      <td>0.0</td>\n",
       "      <td>0.000000</td>\n",
       "      <td>0.0</td>\n",
       "      <td>0.0</td>\n",
       "    </tr>\n",
       "    <tr>\n",
       "      <th>1</th>\n",
       "      <td>0.0</td>\n",
       "      <td>0.0</td>\n",
       "      <td>0.0</td>\n",
       "      <td>0.0</td>\n",
       "      <td>0.0</td>\n",
       "      <td>0.0</td>\n",
       "      <td>0.0</td>\n",
       "      <td>0.0</td>\n",
       "      <td>0.0</td>\n",
       "      <td>0.0</td>\n",
       "      <td>...</td>\n",
       "      <td>0.0</td>\n",
       "      <td>0.0</td>\n",
       "      <td>0.0</td>\n",
       "      <td>0.0</td>\n",
       "      <td>0.0</td>\n",
       "      <td>0.0</td>\n",
       "      <td>0.0</td>\n",
       "      <td>0.000000</td>\n",
       "      <td>0.0</td>\n",
       "      <td>0.0</td>\n",
       "    </tr>\n",
       "    <tr>\n",
       "      <th>2</th>\n",
       "      <td>0.0</td>\n",
       "      <td>0.0</td>\n",
       "      <td>0.0</td>\n",
       "      <td>0.0</td>\n",
       "      <td>0.0</td>\n",
       "      <td>0.0</td>\n",
       "      <td>0.0</td>\n",
       "      <td>0.0</td>\n",
       "      <td>0.0</td>\n",
       "      <td>0.0</td>\n",
       "      <td>...</td>\n",
       "      <td>0.0</td>\n",
       "      <td>0.0</td>\n",
       "      <td>0.0</td>\n",
       "      <td>0.0</td>\n",
       "      <td>0.0</td>\n",
       "      <td>0.0</td>\n",
       "      <td>0.0</td>\n",
       "      <td>0.000000</td>\n",
       "      <td>0.0</td>\n",
       "      <td>0.0</td>\n",
       "    </tr>\n",
       "    <tr>\n",
       "      <th>3</th>\n",
       "      <td>0.0</td>\n",
       "      <td>0.0</td>\n",
       "      <td>0.0</td>\n",
       "      <td>0.0</td>\n",
       "      <td>0.0</td>\n",
       "      <td>0.0</td>\n",
       "      <td>0.0</td>\n",
       "      <td>0.0</td>\n",
       "      <td>0.0</td>\n",
       "      <td>0.0</td>\n",
       "      <td>...</td>\n",
       "      <td>0.0</td>\n",
       "      <td>0.0</td>\n",
       "      <td>0.0</td>\n",
       "      <td>0.0</td>\n",
       "      <td>0.0</td>\n",
       "      <td>0.0</td>\n",
       "      <td>0.0</td>\n",
       "      <td>0.403180</td>\n",
       "      <td>0.0</td>\n",
       "      <td>0.0</td>\n",
       "    </tr>\n",
       "    <tr>\n",
       "      <th>4</th>\n",
       "      <td>0.0</td>\n",
       "      <td>0.0</td>\n",
       "      <td>0.0</td>\n",
       "      <td>0.0</td>\n",
       "      <td>0.0</td>\n",
       "      <td>0.0</td>\n",
       "      <td>0.0</td>\n",
       "      <td>0.0</td>\n",
       "      <td>0.0</td>\n",
       "      <td>0.0</td>\n",
       "      <td>...</td>\n",
       "      <td>0.0</td>\n",
       "      <td>0.0</td>\n",
       "      <td>0.0</td>\n",
       "      <td>0.0</td>\n",
       "      <td>0.0</td>\n",
       "      <td>0.0</td>\n",
       "      <td>0.0</td>\n",
       "      <td>0.354305</td>\n",
       "      <td>0.0</td>\n",
       "      <td>0.0</td>\n",
       "    </tr>\n",
       "  </tbody>\n",
       "</table>\n",
       "<p>5 rows × 942 columns</p>\n",
       "</div>"
      ],
      "text/plain": [
       "   aadhaar  aadhaarit  aaeedee  aage  aana  aane  aap  aapaka  aapake  \\\n",
       "0      0.0        0.0      0.0   0.0   0.0   0.0  0.0     0.0     0.0   \n",
       "1      0.0        0.0      0.0   0.0   0.0   0.0  0.0     0.0     0.0   \n",
       "2      0.0        0.0      0.0   0.0   0.0   0.0  0.0     0.0     0.0   \n",
       "3      0.0        0.0      0.0   0.0   0.0   0.0  0.0     0.0     0.0   \n",
       "4      0.0        0.0      0.0   0.0   0.0   0.0  0.0     0.0     0.0   \n",
       "\n",
       "   aapakee    ...      ya  yadi  yah  yahaan   ye  year  yojana       you  \\\n",
       "0      0.0    ...     0.0   0.0  0.0     0.0  0.0   0.0     0.0  0.000000   \n",
       "1      0.0    ...     0.0   0.0  0.0     0.0  0.0   0.0     0.0  0.000000   \n",
       "2      0.0    ...     0.0   0.0  0.0     0.0  0.0   0.0     0.0  0.000000   \n",
       "3      0.0    ...     0.0   0.0  0.0     0.0  0.0   0.0     0.0  0.403180   \n",
       "4      0.0    ...     0.0   0.0  0.0     0.0  0.0   0.0     0.0  0.354305   \n",
       "\n",
       "   your  zaroorat  \n",
       "0   0.0       0.0  \n",
       "1   0.0       0.0  \n",
       "2   0.0       0.0  \n",
       "3   0.0       0.0  \n",
       "4   0.0       0.0  \n",
       "\n",
       "[5 rows x 942 columns]"
      ]
     },
     "execution_count": 100,
     "metadata": {},
     "output_type": "execute_result"
    }
   ],
   "source": [
    "tfidf_vect_df = pd.DataFrame(X_tfidf.todense(),columns = names)\n",
    "tfidf_vect_df.drop(['99','999','999999999','9999999999'],axis=1,inplace=True)\n",
    "tfidf_vect_df.head()"
   ]
  },
  {
   "cell_type": "markdown",
   "metadata": {},
   "source": [
    "### ngram level tf-idf"
   ]
  },
  {
   "cell_type": "code",
   "execution_count": 101,
   "metadata": {},
   "outputs": [
    {
     "name": "stdout",
     "output_type": "stream",
     "text": [
      "[[0. 0. 0. ... 0. 0. 0.]\n",
      " [0. 0. 0. ... 0. 0. 0.]\n",
      " [0. 0. 0. ... 0. 0. 0.]\n",
      " ...\n",
      " [0. 0. 0. ... 0. 0. 0.]\n",
      " [0. 0. 0. ... 0. 0. 0.]\n",
      " [0. 0. 0. ... 0. 0. 0.]]\n"
     ]
    }
   ],
   "source": [
    "tfidf_vect_ngram = TfidfVectorizer(ngram_range=(2,2))\n",
    "X_tfidf_ngram = tfidf_vect_ngram.fit_transform(corpus)\n",
    "\n",
    "names = tfidf_vect_ngram.get_feature_names()\n",
    "print(X_tfidf_ngram.toarray())"
   ]
  },
  {
   "cell_type": "code",
   "execution_count": 102,
   "metadata": {},
   "outputs": [
    {
     "data": {
      "text/html": [
       "<div>\n",
       "<style scoped>\n",
       "    .dataframe tbody tr th:only-of-type {\n",
       "        vertical-align: middle;\n",
       "    }\n",
       "\n",
       "    .dataframe tbody tr th {\n",
       "        vertical-align: top;\n",
       "    }\n",
       "\n",
       "    .dataframe thead th {\n",
       "        text-align: right;\n",
       "    }\n",
       "</style>\n",
       "<table border=\"1\" class=\"dataframe\">\n",
       "  <thead>\n",
       "    <tr style=\"text-align: right;\">\n",
       "      <th></th>\n",
       "      <th>99 99</th>\n",
       "      <th>99 999</th>\n",
       "      <th>99 par</th>\n",
       "      <th>999 ab</th>\n",
       "      <th>999999999 call</th>\n",
       "      <th>9999999999 now</th>\n",
       "      <th>aadhaar can</th>\n",
       "      <th>aadhaar card</th>\n",
       "      <th>aadhaar get</th>\n",
       "      <th>aadhaar here</th>\n",
       "      <th>...</th>\n",
       "      <th>your number</th>\n",
       "      <th>your office</th>\n",
       "      <th>your process</th>\n",
       "      <th>your self</th>\n",
       "      <th>your side</th>\n",
       "      <th>your simplerloan</th>\n",
       "      <th>your team</th>\n",
       "      <th>your toll</th>\n",
       "      <th>your toller</th>\n",
       "      <th>zaroorat hai</th>\n",
       "    </tr>\n",
       "  </thead>\n",
       "  <tbody>\n",
       "    <tr>\n",
       "      <th>0</th>\n",
       "      <td>0.0</td>\n",
       "      <td>0.0</td>\n",
       "      <td>0.0</td>\n",
       "      <td>0.0</td>\n",
       "      <td>0.0</td>\n",
       "      <td>0.0</td>\n",
       "      <td>0.0</td>\n",
       "      <td>0.0</td>\n",
       "      <td>0.0</td>\n",
       "      <td>0.0</td>\n",
       "      <td>...</td>\n",
       "      <td>0.0</td>\n",
       "      <td>0.0</td>\n",
       "      <td>0.0</td>\n",
       "      <td>0.0</td>\n",
       "      <td>0.0</td>\n",
       "      <td>0.0</td>\n",
       "      <td>0.0</td>\n",
       "      <td>0.0</td>\n",
       "      <td>0.0</td>\n",
       "      <td>0.0</td>\n",
       "    </tr>\n",
       "    <tr>\n",
       "      <th>1</th>\n",
       "      <td>0.0</td>\n",
       "      <td>0.0</td>\n",
       "      <td>0.0</td>\n",
       "      <td>0.0</td>\n",
       "      <td>0.0</td>\n",
       "      <td>0.0</td>\n",
       "      <td>0.0</td>\n",
       "      <td>0.0</td>\n",
       "      <td>0.0</td>\n",
       "      <td>0.0</td>\n",
       "      <td>...</td>\n",
       "      <td>0.0</td>\n",
       "      <td>0.0</td>\n",
       "      <td>0.0</td>\n",
       "      <td>0.0</td>\n",
       "      <td>0.0</td>\n",
       "      <td>0.0</td>\n",
       "      <td>0.0</td>\n",
       "      <td>0.0</td>\n",
       "      <td>0.0</td>\n",
       "      <td>0.0</td>\n",
       "    </tr>\n",
       "    <tr>\n",
       "      <th>2</th>\n",
       "      <td>0.0</td>\n",
       "      <td>0.0</td>\n",
       "      <td>0.0</td>\n",
       "      <td>0.0</td>\n",
       "      <td>0.0</td>\n",
       "      <td>0.0</td>\n",
       "      <td>0.0</td>\n",
       "      <td>0.0</td>\n",
       "      <td>0.0</td>\n",
       "      <td>0.0</td>\n",
       "      <td>...</td>\n",
       "      <td>0.0</td>\n",
       "      <td>0.0</td>\n",
       "      <td>0.0</td>\n",
       "      <td>0.0</td>\n",
       "      <td>0.0</td>\n",
       "      <td>0.0</td>\n",
       "      <td>0.0</td>\n",
       "      <td>0.0</td>\n",
       "      <td>0.0</td>\n",
       "      <td>0.0</td>\n",
       "    </tr>\n",
       "    <tr>\n",
       "      <th>3</th>\n",
       "      <td>0.0</td>\n",
       "      <td>0.0</td>\n",
       "      <td>0.0</td>\n",
       "      <td>0.0</td>\n",
       "      <td>0.0</td>\n",
       "      <td>0.0</td>\n",
       "      <td>0.0</td>\n",
       "      <td>0.0</td>\n",
       "      <td>0.0</td>\n",
       "      <td>0.0</td>\n",
       "      <td>...</td>\n",
       "      <td>0.0</td>\n",
       "      <td>0.0</td>\n",
       "      <td>0.0</td>\n",
       "      <td>0.0</td>\n",
       "      <td>0.0</td>\n",
       "      <td>0.0</td>\n",
       "      <td>0.0</td>\n",
       "      <td>0.0</td>\n",
       "      <td>0.0</td>\n",
       "      <td>0.0</td>\n",
       "    </tr>\n",
       "    <tr>\n",
       "      <th>4</th>\n",
       "      <td>0.0</td>\n",
       "      <td>0.0</td>\n",
       "      <td>0.0</td>\n",
       "      <td>0.0</td>\n",
       "      <td>0.0</td>\n",
       "      <td>0.0</td>\n",
       "      <td>0.0</td>\n",
       "      <td>0.0</td>\n",
       "      <td>0.0</td>\n",
       "      <td>0.0</td>\n",
       "      <td>...</td>\n",
       "      <td>0.0</td>\n",
       "      <td>0.0</td>\n",
       "      <td>0.0</td>\n",
       "      <td>0.0</td>\n",
       "      <td>0.0</td>\n",
       "      <td>0.0</td>\n",
       "      <td>0.0</td>\n",
       "      <td>0.0</td>\n",
       "      <td>0.0</td>\n",
       "      <td>0.0</td>\n",
       "    </tr>\n",
       "  </tbody>\n",
       "</table>\n",
       "<p>5 rows × 3958 columns</p>\n",
       "</div>"
      ],
      "text/plain": [
       "   99 99  99 999  99 par  999 ab  999999999 call  9999999999 now  aadhaar can  \\\n",
       "0    0.0     0.0     0.0     0.0             0.0             0.0          0.0   \n",
       "1    0.0     0.0     0.0     0.0             0.0             0.0          0.0   \n",
       "2    0.0     0.0     0.0     0.0             0.0             0.0          0.0   \n",
       "3    0.0     0.0     0.0     0.0             0.0             0.0          0.0   \n",
       "4    0.0     0.0     0.0     0.0             0.0             0.0          0.0   \n",
       "\n",
       "   aadhaar card  aadhaar get  aadhaar here      ...       your number  \\\n",
       "0           0.0          0.0           0.0      ...               0.0   \n",
       "1           0.0          0.0           0.0      ...               0.0   \n",
       "2           0.0          0.0           0.0      ...               0.0   \n",
       "3           0.0          0.0           0.0      ...               0.0   \n",
       "4           0.0          0.0           0.0      ...               0.0   \n",
       "\n",
       "   your office  your process  your self  your side  your simplerloan  \\\n",
       "0          0.0           0.0        0.0        0.0               0.0   \n",
       "1          0.0           0.0        0.0        0.0               0.0   \n",
       "2          0.0           0.0        0.0        0.0               0.0   \n",
       "3          0.0           0.0        0.0        0.0               0.0   \n",
       "4          0.0           0.0        0.0        0.0               0.0   \n",
       "\n",
       "   your team  your toll  your toller  zaroorat hai  \n",
       "0        0.0        0.0          0.0           0.0  \n",
       "1        0.0        0.0          0.0           0.0  \n",
       "2        0.0        0.0          0.0           0.0  \n",
       "3        0.0        0.0          0.0           0.0  \n",
       "4        0.0        0.0          0.0           0.0  \n",
       "\n",
       "[5 rows x 3958 columns]"
      ]
     },
     "execution_count": 102,
     "metadata": {},
     "output_type": "execute_result"
    }
   ],
   "source": [
    "tfidf_vect_ngram_df = pd.DataFrame(X_tfidf_ngram.todense(), columns=names)\n",
    "#tfidf_vect_ngram_df.drop(['999999999 call'], axis=1,inplace=True)\n",
    "tfidf_vect_ngram_df.head()"
   ]
  },
  {
   "cell_type": "markdown",
   "metadata": {},
   "source": [
    "### Character level tf-idf"
   ]
  },
  {
   "cell_type": "code",
   "execution_count": 103,
   "metadata": {},
   "outputs": [
    {
     "name": "stdout",
     "output_type": "stream",
     "text": [
      "[[0. 0. 0. ... 0. 0. 0.]\n",
      " [0. 0. 0. ... 0. 0. 0.]\n",
      " [0. 0. 0. ... 0. 0. 0.]\n",
      " ...\n",
      " [0. 0. 0. ... 0. 0. 0.]\n",
      " [0. 0. 0. ... 0. 0. 0.]\n",
      " [0. 0. 0. ... 0. 0. 0.]]\n"
     ]
    }
   ],
   "source": [
    "tfidf_vect_ngram_chars = TfidfVectorizer(analyzer='char', ngram_range=(2,3))\n",
    "X_tfidf_vect_ngram_chars = tfidf_vect_ngram_chars.fit_transform(corpus)\n",
    "\n",
    "names = tfidf_vect_ngram_chars.get_feature_names()\n",
    "print(X_tfidf_vect_ngram_chars.toarray())"
   ]
  },
  {
   "cell_type": "code",
   "execution_count": 104,
   "metadata": {},
   "outputs": [
    {
     "data": {
      "text/html": [
       "<div>\n",
       "<style scoped>\n",
       "    .dataframe tbody tr th:only-of-type {\n",
       "        vertical-align: middle;\n",
       "    }\n",
       "\n",
       "    .dataframe tbody tr th {\n",
       "        vertical-align: top;\n",
       "    }\n",
       "\n",
       "    .dataframe thead th {\n",
       "        text-align: right;\n",
       "    }\n",
       "</style>\n",
       "<table border=\"1\" class=\"dataframe\">\n",
       "  <thead>\n",
       "    <tr style=\"text-align: right;\">\n",
       "      <th></th>\n",
       "      <th>a</th>\n",
       "      <th>a</th>\n",
       "      <th>aa</th>\n",
       "      <th>ab</th>\n",
       "      <th>ac</th>\n",
       "      <th>ad</th>\n",
       "      <th>af</th>\n",
       "      <th>ag</th>\n",
       "      <th>ai</th>\n",
       "      <th>al</th>\n",
       "      <th>...</th>\n",
       "      <th>y</th>\n",
       "      <th>yo</th>\n",
       "      <th>z</th>\n",
       "      <th>z k</th>\n",
       "      <th>z p</th>\n",
       "      <th>z s</th>\n",
       "      <th>za</th>\n",
       "      <th>zar</th>\n",
       "      <th>o</th>\n",
       "      <th>of</th>\n",
       "    </tr>\n",
       "  </thead>\n",
       "  <tbody>\n",
       "    <tr>\n",
       "      <th>0</th>\n",
       "      <td>0.0</td>\n",
       "      <td>0.0</td>\n",
       "      <td>0.0</td>\n",
       "      <td>0.0</td>\n",
       "      <td>0.0</td>\n",
       "      <td>0.0</td>\n",
       "      <td>0.0</td>\n",
       "      <td>0.0</td>\n",
       "      <td>0.0</td>\n",
       "      <td>0.0</td>\n",
       "      <td>...</td>\n",
       "      <td>0.0</td>\n",
       "      <td>0.0</td>\n",
       "      <td>0.0</td>\n",
       "      <td>0.0</td>\n",
       "      <td>0.0</td>\n",
       "      <td>0.0</td>\n",
       "      <td>0.0</td>\n",
       "      <td>0.0</td>\n",
       "      <td>0.0</td>\n",
       "      <td>0.0</td>\n",
       "    </tr>\n",
       "    <tr>\n",
       "      <th>1</th>\n",
       "      <td>0.0</td>\n",
       "      <td>0.0</td>\n",
       "      <td>0.0</td>\n",
       "      <td>0.0</td>\n",
       "      <td>0.0</td>\n",
       "      <td>0.0</td>\n",
       "      <td>0.0</td>\n",
       "      <td>0.0</td>\n",
       "      <td>0.0</td>\n",
       "      <td>0.0</td>\n",
       "      <td>...</td>\n",
       "      <td>0.0</td>\n",
       "      <td>0.0</td>\n",
       "      <td>0.0</td>\n",
       "      <td>0.0</td>\n",
       "      <td>0.0</td>\n",
       "      <td>0.0</td>\n",
       "      <td>0.0</td>\n",
       "      <td>0.0</td>\n",
       "      <td>0.0</td>\n",
       "      <td>0.0</td>\n",
       "    </tr>\n",
       "    <tr>\n",
       "      <th>2</th>\n",
       "      <td>0.0</td>\n",
       "      <td>0.0</td>\n",
       "      <td>0.0</td>\n",
       "      <td>0.0</td>\n",
       "      <td>0.0</td>\n",
       "      <td>0.0</td>\n",
       "      <td>0.0</td>\n",
       "      <td>0.0</td>\n",
       "      <td>0.0</td>\n",
       "      <td>0.0</td>\n",
       "      <td>...</td>\n",
       "      <td>0.0</td>\n",
       "      <td>0.0</td>\n",
       "      <td>0.0</td>\n",
       "      <td>0.0</td>\n",
       "      <td>0.0</td>\n",
       "      <td>0.0</td>\n",
       "      <td>0.0</td>\n",
       "      <td>0.0</td>\n",
       "      <td>0.0</td>\n",
       "      <td>0.0</td>\n",
       "    </tr>\n",
       "    <tr>\n",
       "      <th>3</th>\n",
       "      <td>0.0</td>\n",
       "      <td>0.0</td>\n",
       "      <td>0.0</td>\n",
       "      <td>0.0</td>\n",
       "      <td>0.0</td>\n",
       "      <td>0.0</td>\n",
       "      <td>0.0</td>\n",
       "      <td>0.0</td>\n",
       "      <td>0.0</td>\n",
       "      <td>0.0</td>\n",
       "      <td>...</td>\n",
       "      <td>0.0</td>\n",
       "      <td>0.0</td>\n",
       "      <td>0.0</td>\n",
       "      <td>0.0</td>\n",
       "      <td>0.0</td>\n",
       "      <td>0.0</td>\n",
       "      <td>0.0</td>\n",
       "      <td>0.0</td>\n",
       "      <td>0.0</td>\n",
       "      <td>0.0</td>\n",
       "    </tr>\n",
       "    <tr>\n",
       "      <th>4</th>\n",
       "      <td>0.0</td>\n",
       "      <td>0.0</td>\n",
       "      <td>0.0</td>\n",
       "      <td>0.0</td>\n",
       "      <td>0.0</td>\n",
       "      <td>0.0</td>\n",
       "      <td>0.0</td>\n",
       "      <td>0.0</td>\n",
       "      <td>0.0</td>\n",
       "      <td>0.0</td>\n",
       "      <td>...</td>\n",
       "      <td>0.0</td>\n",
       "      <td>0.0</td>\n",
       "      <td>0.0</td>\n",
       "      <td>0.0</td>\n",
       "      <td>0.0</td>\n",
       "      <td>0.0</td>\n",
       "      <td>0.0</td>\n",
       "      <td>0.0</td>\n",
       "      <td>0.0</td>\n",
       "      <td>0.0</td>\n",
       "    </tr>\n",
       "  </tbody>\n",
       "</table>\n",
       "<p>5 rows × 2437 columns</p>\n",
       "</div>"
      ],
      "text/plain": [
       "     a   a    aa   ab   ac   ad   af   ag   ai   al ...    y  yo   z   z k  \\\n",
       "0  0.0  0.0  0.0  0.0  0.0  0.0  0.0  0.0  0.0  0.0 ...   0.0  0.0  0.0  0.0   \n",
       "1  0.0  0.0  0.0  0.0  0.0  0.0  0.0  0.0  0.0  0.0 ...   0.0  0.0  0.0  0.0   \n",
       "2  0.0  0.0  0.0  0.0  0.0  0.0  0.0  0.0  0.0  0.0 ...   0.0  0.0  0.0  0.0   \n",
       "3  0.0  0.0  0.0  0.0  0.0  0.0  0.0  0.0  0.0  0.0 ...   0.0  0.0  0.0  0.0   \n",
       "4  0.0  0.0  0.0  0.0  0.0  0.0  0.0  0.0  0.0  0.0 ...   0.0  0.0  0.0  0.0   \n",
       "\n",
       "   z p  z s   za  zar   o  of  \n",
       "0  0.0  0.0  0.0  0.0  0.0  0.0  \n",
       "1  0.0  0.0  0.0  0.0  0.0  0.0  \n",
       "2  0.0  0.0  0.0  0.0  0.0  0.0  \n",
       "3  0.0  0.0  0.0  0.0  0.0  0.0  \n",
       "4  0.0  0.0  0.0  0.0  0.0  0.0  \n",
       "\n",
       "[5 rows x 2437 columns]"
      ]
     },
     "execution_count": 104,
     "metadata": {},
     "output_type": "execute_result"
    }
   ],
   "source": [
    "tfidf_vect_chars_df = pd.DataFrame(X_tfidf_vect_ngram_chars.todense(),columns=names)\n",
    "tfidf_vect_chars_df.drop([' 1', ' 1 ', ' 2', ' 2 ', ' 9', ' 99'],axis=1,inplace=True)\n",
    "tfidf_vect_chars_df.head()"
   ]
  },
  {
   "cell_type": "code",
   "execution_count": 105,
   "metadata": {},
   "outputs": [
    {
     "data": {
      "text/plain": [
       "Index([' a', ' a ', ' aa', ' ab', ' ac', ' ad', ' af', ' ag', ' ai', ' al',\n",
       "       ...\n",
       "       'y', 'yo', 'z ', 'z k', 'z p', 'z s', 'za', 'zar', 'o', 'of'],\n",
       "      dtype='object', length=2437)"
      ]
     },
     "execution_count": 105,
     "metadata": {},
     "output_type": "execute_result"
    }
   ],
   "source": [
    "tfidf_vect_chars_df.columns"
   ]
  },
  {
   "cell_type": "markdown",
   "metadata": {},
   "source": [
    "# Model Building\n",
    "\n",
    "In this step I have trained classifiers based on the features created in previous step. There are many choices of machine learning models that can be implemented. I have implemented the following models: <br>\n",
    "1. Naive Bayes Classifier\n",
    "2. Logistic Regression\n",
    "3. Random Forest Classifier\n",
    "4. XGBoost Gradient Classifier\n",
    "5. Support Vector Machines(SVM)\n",
    "6. Neural Networks\n"
   ]
  },
  {
   "cell_type": "code",
   "execution_count": 106,
   "metadata": {},
   "outputs": [],
   "source": [
    "def train_model(classifier,X_train,y_train,X_test,y_test):\n",
    "    \n",
    "    classifier.fit(X_train,y_train)\n",
    "    predictions = classifier.predict(X_test)\n",
    "    return accuracy_score(predictions,y_test)"
   ]
  },
  {
   "cell_type": "markdown",
   "metadata": {},
   "source": [
    "## Label Encoding"
   ]
  },
  {
   "cell_type": "code",
   "execution_count": 107,
   "metadata": {},
   "outputs": [],
   "source": [
    "# label Encoding\n",
    "from sklearn.preprocessing import LabelEncoder,OneHotEncoder\n",
    "lbl_enc = LabelEncoder()\n",
    "\n",
    "\n",
    "vect_df['intent'] = data_df.apply(lbl_enc.fit_transform).iloc[:,-1]\n",
    "\n",
    "tfidf_vect_df['intent'] = data_df.apply(lbl_enc.fit_transform).iloc[:,-1]\n",
    "\n",
    "tfidf_vect_ngram_df['intent'] = data_df.apply(lbl_enc.fit_transform).iloc[:,-1]\n",
    "\n",
    "tfidf_vect_chars_df['intent'] = data_df.apply(lbl_enc.fit_transform).iloc[:,-1]\n",
    "\n"
   ]
  },
  {
   "cell_type": "markdown",
   "metadata": {},
   "source": [
    "## Train_Test Split"
   ]
  },
  {
   "cell_type": "code",
   "execution_count": 108,
   "metadata": {},
   "outputs": [],
   "source": [
    "from sklearn.model_selection import train_test_split\n",
    "\n",
    "def split_data(X_feature,y_feature):\n",
    "    X = X_feature\n",
    "    y = y_feature\n",
    "    \n",
    "    X_train,X_test,y_train,y_test = train_test_split(X,y, test_size = 0.25, random_state=94)\n",
    "    \n",
    "    return X_train,X_test,y_train,y_test"
   ]
  },
  {
   "cell_type": "markdown",
   "metadata": {},
   "source": [
    "## ML models"
   ]
  },
  {
   "cell_type": "code",
   "execution_count": 109,
   "metadata": {},
   "outputs": [],
   "source": [
    "from sklearn.metrics import confusion_matrix, classification_report, accuracy_score\n",
    "from sklearn.naive_bayes import GaussianNB\n",
    "from sklearn.linear_model import LogisticRegression\n",
    "from sklearn.ensemble import RandomForestClassifier\n",
    "from xgboost import XGBClassifier\n",
    "from sklearn import svm"
   ]
  },
  {
   "cell_type": "code",
   "execution_count": 110,
   "metadata": {},
   "outputs": [],
   "source": [
    "# Classifier function dictionary\n",
    "classifier_dict = {'NaiveBayes':GaussianNB(),'LogisticRegression':LogisticRegression(),'RandomForest':RandomForestClassifier(),\n",
    "                  'SVM':svm.LinearSVC(),'xgb':XGBClassifier(max_depth=6,learning_rate=0.15)}"
   ]
  },
  {
   "cell_type": "code",
   "execution_count": 111,
   "metadata": {},
   "outputs": [],
   "source": [
    "# This function takes model name as input and trains the model on different types of feature vectors including Count Vectors,\n",
    "# word level tf-idf vectors, ngram level tf-idf vectors and character level tf-idf vectors\n",
    "def classifier(model):\n",
    "    Classifier = classifier_dict[model]\n",
    "\n",
    "    # Classifier on Count Vectors\n",
    "    X = vect_df.iloc[:,:-1]\n",
    "    y = vect_df['intent']\n",
    "    X_train,X_test,y_train,y_test = split_data(X,y)\n",
    "\n",
    "    # List for storing accuracy values\n",
    "    Accuracy = []\n",
    "\n",
    "    accuracy = train_model(Classifier,X_train,y_train,X_test,y_test)\n",
    "    Accuracy.append(accuracy)\n",
    "    print(model,\", Count Vectors: \",accuracy)\n",
    "\n",
    "    # Classifier on Word level TF-IDF vectors\n",
    "    X = tfidf_vect_df.iloc[:,:-1]\n",
    "    y = tfidf_vect_df['intent']\n",
    "    X_train,X_test,y_train,y_test = split_data(X,y)\n",
    "\n",
    "    accuracy = train_model(Classifier,X_train,y_train,X_test,y_test)\n",
    "    Accuracy.append(accuracy)\n",
    "    print(model,\", Word level TF-IDF Vectors: \",accuracy)\n",
    "\n",
    "    # Classifier on N-gram level TF-IDF vectors\n",
    "    X = tfidf_vect_ngram_df.iloc[:,:-1]\n",
    "    y = tfidf_vect_ngram_df['intent']\n",
    "    X_train,X_test,y_train,y_test = split_data(X,y)\n",
    "\n",
    "    accuracy = train_model(Classifier,X_train,y_train,X_test,y_test)\n",
    "    Accuracy.append(accuracy)\n",
    "    print(model,\", n-gram level TF-IDF Vectors: \",accuracy)\n",
    "\n",
    "    # Classifier on character level TF-IDF vectors\n",
    "    X = tfidf_vect_chars_df.iloc[:,:-1]\n",
    "    y = tfidf_vect_chars_df['intent']\n",
    "    X_train,X_test,y_train,y_test = split_data(X,y)\n",
    "\n",
    "    accuracy = train_model(Classifier,X_train,y_train,X_test,y_test)\n",
    "    Accuracy.append(accuracy)\n",
    "    print(model,\", character level TF-IDF Vectors: \",accuracy)\n",
    "    return Accuracy\n",
    "\n"
   ]
  },
  {
   "cell_type": "markdown",
   "metadata": {},
   "source": [
    "### Naive Bayes Classifier"
   ]
  },
  {
   "cell_type": "code",
   "execution_count": 112,
   "metadata": {},
   "outputs": [
    {
     "name": "stdout",
     "output_type": "stream",
     "text": [
      "NaiveBayes , Count Vectors:  0.8910179640718563\n",
      "NaiveBayes , Word level TF-IDF Vectors:  0.8874251497005988\n",
      "NaiveBayes , n-gram level TF-IDF Vectors:  0.9221556886227545\n",
      "NaiveBayes , character level TF-IDF Vectors:  0.9017964071856287\n"
     ]
    }
   ],
   "source": [
    "# nb stores the accuracy list of naive bayes classifier returned from classifier function.\n",
    "nb = classifier('NaiveBayes')"
   ]
  },
  {
   "cell_type": "markdown",
   "metadata": {},
   "source": [
    "### Logistic Regression"
   ]
  },
  {
   "cell_type": "code",
   "execution_count": 113,
   "metadata": {},
   "outputs": [
    {
     "name": "stdout",
     "output_type": "stream",
     "text": [
      "LogisticRegression , Count Vectors:  0.9365269461077844\n",
      "LogisticRegression , Word level TF-IDF Vectors:  0.8778443113772455\n",
      "LogisticRegression , n-gram level TF-IDF Vectors:  0.7916167664670659\n",
      "LogisticRegression , character level TF-IDF Vectors:  0.8826347305389222\n"
     ]
    }
   ],
   "source": [
    "# lr stores the accuracy list of naive bayes classifier returned from classifier function.\n",
    "lr = classifier('LogisticRegression')"
   ]
  },
  {
   "cell_type": "markdown",
   "metadata": {},
   "source": [
    "### Random Forest Classifier"
   ]
  },
  {
   "cell_type": "code",
   "execution_count": 114,
   "metadata": {},
   "outputs": [
    {
     "name": "stdout",
     "output_type": "stream",
     "text": [
      "RandomForest , Count Vectors:  0.9089820359281438\n",
      "RandomForest , Word level TF-IDF Vectors:  0.9161676646706587\n",
      "RandomForest , n-gram level TF-IDF Vectors:  0.8467065868263473\n",
      "RandomForest , character level TF-IDF Vectors:  0.9137724550898204\n"
     ]
    }
   ],
   "source": [
    "# rf stores the accuracy list of naive bayes classifier returned from classifier function.\n",
    "rf = classifier('RandomForest')"
   ]
  },
  {
   "cell_type": "markdown",
   "metadata": {},
   "source": [
    "### XGBoost Gradient Classifier"
   ]
  },
  {
   "cell_type": "code",
   "execution_count": 115,
   "metadata": {},
   "outputs": [
    {
     "name": "stderr",
     "output_type": "stream",
     "text": [
      "C:\\Users\\hharshit\\AppData\\Local\\Continuum\\anaconda3\\lib\\site-packages\\sklearn\\preprocessing\\label.py:151: DeprecationWarning: The truth value of an empty array is ambiguous. Returning False, but in future this will result in an error. Use `array.size > 0` to check that an array is not empty.\n",
      "  if diff:\n"
     ]
    },
    {
     "name": "stdout",
     "output_type": "stream",
     "text": [
      "xgb , Count Vectors:  0.9173652694610779\n"
     ]
    },
    {
     "name": "stderr",
     "output_type": "stream",
     "text": [
      "C:\\Users\\hharshit\\AppData\\Local\\Continuum\\anaconda3\\lib\\site-packages\\sklearn\\preprocessing\\label.py:151: DeprecationWarning: The truth value of an empty array is ambiguous. Returning False, but in future this will result in an error. Use `array.size > 0` to check that an array is not empty.\n",
      "  if diff:\n"
     ]
    },
    {
     "name": "stdout",
     "output_type": "stream",
     "text": [
      "xgb , Word level TF-IDF Vectors:  0.9101796407185628\n"
     ]
    },
    {
     "name": "stderr",
     "output_type": "stream",
     "text": [
      "C:\\Users\\hharshit\\AppData\\Local\\Continuum\\anaconda3\\lib\\site-packages\\sklearn\\preprocessing\\label.py:151: DeprecationWarning: The truth value of an empty array is ambiguous. Returning False, but in future this will result in an error. Use `array.size > 0` to check that an array is not empty.\n",
      "  if diff:\n"
     ]
    },
    {
     "name": "stdout",
     "output_type": "stream",
     "text": [
      "xgb , n-gram level TF-IDF Vectors:  0.7820359281437126\n",
      "xgb , character level TF-IDF Vectors:  0.9389221556886228\n"
     ]
    },
    {
     "name": "stderr",
     "output_type": "stream",
     "text": [
      "C:\\Users\\hharshit\\AppData\\Local\\Continuum\\anaconda3\\lib\\site-packages\\sklearn\\preprocessing\\label.py:151: DeprecationWarning: The truth value of an empty array is ambiguous. Returning False, but in future this will result in an error. Use `array.size > 0` to check that an array is not empty.\n",
      "  if diff:\n"
     ]
    }
   ],
   "source": [
    "# xgb stores the accuracy list of naive bayes classifier returned from classifier function.\n",
    "xgb = classifier('xgb')"
   ]
  },
  {
   "cell_type": "markdown",
   "metadata": {},
   "source": [
    "### Support Vector Machines"
   ]
  },
  {
   "cell_type": "code",
   "execution_count": 116,
   "metadata": {},
   "outputs": [
    {
     "name": "stdout",
     "output_type": "stream",
     "text": [
      "SVM , Count Vectors:  0.9520958083832335\n",
      "SVM , Word level TF-IDF Vectors:  0.9532934131736527\n",
      "SVM , n-gram level TF-IDF Vectors:  0.925748502994012\n",
      "SVM , character level TF-IDF Vectors:  0.9520958083832335\n"
     ]
    }
   ],
   "source": [
    "# svm stores the accuracy list of naive bayes classifier returned from classifier function.\n",
    "SVM = classifier('SVM')"
   ]
  },
  {
   "cell_type": "markdown",
   "metadata": {},
   "source": [
    "## Plot of Accuracy across different models"
   ]
  },
  {
   "cell_type": "code",
   "execution_count": 117,
   "metadata": {},
   "outputs": [],
   "source": [
    "nbAcc = np.array(nb)\n",
    "logAcc = np.array(lr)\n",
    "rfAcc = np.array(rf)\n",
    "xgbAcc = np.array(xgb)\n",
    "svmAcc = np.array(SVM)"
   ]
  },
  {
   "cell_type": "code",
   "execution_count": 118,
   "metadata": {},
   "outputs": [],
   "source": [
    "accuracy_arr = np.vstack([nbAcc,logAcc,rfAcc,xgbAcc,svmAcc]).T"
   ]
  },
  {
   "cell_type": "code",
   "execution_count": 119,
   "metadata": {},
   "outputs": [
    {
     "data": {
      "text/plain": [
       "array([[0.89101796, 0.93652695, 0.90898204, 0.91736527, 0.95209581],\n",
       "       [0.88742515, 0.87784431, 0.91616766, 0.91017964, 0.95329341],\n",
       "       [0.92215569, 0.79161677, 0.84670659, 0.78203593, 0.9257485 ],\n",
       "       [0.90179641, 0.88263473, 0.91377246, 0.93892216, 0.95209581]])"
      ]
     },
     "execution_count": 119,
     "metadata": {},
     "output_type": "execute_result"
    }
   ],
   "source": [
    "accuracy_arr"
   ]
  },
  {
   "cell_type": "code",
   "execution_count": 120,
   "metadata": {},
   "outputs": [],
   "source": [
    "acc_df = pd.DataFrame(accuracy_arr,columns = ['NaiveBayes','logisticRegression','RandomForest','XGBoost','SVM'],\n",
    "                      index = ['Count Vectors','Word tf-idf','ngram tf-idf','character tf-idf'])"
   ]
  },
  {
   "cell_type": "code",
   "execution_count": 121,
   "metadata": {},
   "outputs": [
    {
     "data": {
      "text/html": [
       "<div>\n",
       "<style scoped>\n",
       "    .dataframe tbody tr th:only-of-type {\n",
       "        vertical-align: middle;\n",
       "    }\n",
       "\n",
       "    .dataframe tbody tr th {\n",
       "        vertical-align: top;\n",
       "    }\n",
       "\n",
       "    .dataframe thead th {\n",
       "        text-align: right;\n",
       "    }\n",
       "</style>\n",
       "<table border=\"1\" class=\"dataframe\">\n",
       "  <thead>\n",
       "    <tr style=\"text-align: right;\">\n",
       "      <th></th>\n",
       "      <th>NaiveBayes</th>\n",
       "      <th>logisticRegression</th>\n",
       "      <th>RandomForest</th>\n",
       "      <th>XGBoost</th>\n",
       "      <th>SVM</th>\n",
       "    </tr>\n",
       "  </thead>\n",
       "  <tbody>\n",
       "    <tr>\n",
       "      <th>Count Vectors</th>\n",
       "      <td>0.891018</td>\n",
       "      <td>0.936527</td>\n",
       "      <td>0.908982</td>\n",
       "      <td>0.917365</td>\n",
       "      <td>0.952096</td>\n",
       "    </tr>\n",
       "    <tr>\n",
       "      <th>Word tf-idf</th>\n",
       "      <td>0.887425</td>\n",
       "      <td>0.877844</td>\n",
       "      <td>0.916168</td>\n",
       "      <td>0.910180</td>\n",
       "      <td>0.953293</td>\n",
       "    </tr>\n",
       "    <tr>\n",
       "      <th>ngram tf-idf</th>\n",
       "      <td>0.922156</td>\n",
       "      <td>0.791617</td>\n",
       "      <td>0.846707</td>\n",
       "      <td>0.782036</td>\n",
       "      <td>0.925749</td>\n",
       "    </tr>\n",
       "    <tr>\n",
       "      <th>character tf-idf</th>\n",
       "      <td>0.901796</td>\n",
       "      <td>0.882635</td>\n",
       "      <td>0.913772</td>\n",
       "      <td>0.938922</td>\n",
       "      <td>0.952096</td>\n",
       "    </tr>\n",
       "  </tbody>\n",
       "</table>\n",
       "</div>"
      ],
      "text/plain": [
       "                  NaiveBayes  logisticRegression  RandomForest   XGBoost  \\\n",
       "Count Vectors       0.891018            0.936527      0.908982  0.917365   \n",
       "Word tf-idf         0.887425            0.877844      0.916168  0.910180   \n",
       "ngram tf-idf        0.922156            0.791617      0.846707  0.782036   \n",
       "character tf-idf    0.901796            0.882635      0.913772  0.938922   \n",
       "\n",
       "                       SVM  \n",
       "Count Vectors     0.952096  \n",
       "Word tf-idf       0.953293  \n",
       "ngram tf-idf      0.925749  \n",
       "character tf-idf  0.952096  "
      ]
     },
     "execution_count": 121,
     "metadata": {},
     "output_type": "execute_result"
    }
   ],
   "source": [
    "acc_df"
   ]
  },
  {
   "cell_type": "code",
   "execution_count": 122,
   "metadata": {},
   "outputs": [
    {
     "data": {
      "image/png": "[encoded data removed]",
      "text/plain": [
       "<Figure size 864x432 with 1 Axes>"
      ]
     },
     "metadata": {},
     "output_type": "display_data"
    }
   ],
   "source": [
    "plt.figure(figsize=(12,6))\n",
    "sns.barplot(data = acc_df)\n",
    "plt.savefig('accuracy.jpg')"
   ]
  },
  {
   "cell_type": "markdown",
   "metadata": {},
   "source": [
    "## Neural Networks"
   ]
  },
  {
   "cell_type": "code",
   "execution_count": 131,
   "metadata": {},
   "outputs": [
    {
     "name": "stdout",
     "output_type": "stream",
     "text": [
      "INFO:tensorflow:Using default config.\n",
      "WARNING:tensorflow:Using temporary folder as model directory: C:\\Users\\hharshit\\AppData\\Local\\Temp\\tmpkldde9z6\n",
      "INFO:tensorflow:Using config: {'_model_dir': 'C:\\\\Users\\\\hharshit\\\\AppData\\\\Local\\\\Temp\\\\tmpkldde9z6', '_tf_random_seed': None, '_save_summary_steps': 100, '_save_checkpoints_steps': None, '_save_checkpoints_secs': 600, '_session_config': allow_soft_placement: true\n",
      "graph_options {\n",
      "  rewrite_options {\n",
      "    meta_optimizer_iterations: ONE\n",
      "  }\n",
      "}\n",
      ", '_keep_checkpoint_max': 5, '_keep_checkpoint_every_n_hours': 10000, '_log_step_count_steps': 100, '_train_distribute': None, '_device_fn': None, '_protocol': None, '_eval_distribute': None, '_experimental_distribute': None, '_service': None, '_cluster_spec': <tensorflow.python.training.server_lib.ClusterSpec object at 0x000001D41279D390>, '_task_type': 'worker', '_task_id': 0, '_global_id_in_cluster': 0, '_master': '', '_evaluation_master': '', '_is_chief': True, '_num_ps_replicas': 0, '_num_worker_replicas': 1}\n",
      "INFO:tensorflow:Calling model_fn.\n",
      "INFO:tensorflow:Done calling model_fn.\n",
      "INFO:tensorflow:Create CheckpointSaverHook.\n",
      "INFO:tensorflow:Graph was finalized.\n",
      "INFO:tensorflow:Running local_init_op.\n",
      "INFO:tensorflow:Done running local_init_op.\n",
      "INFO:tensorflow:Saving checkpoints for 0 into C:\\Users\\hharshit\\AppData\\Local\\Temp\\tmpkldde9z6\\model.ckpt.\n",
      "INFO:tensorflow:loss = 30.501879, step = 1\n",
      "INFO:tensorflow:global_step/sec: 6.34419\n",
      "INFO:tensorflow:loss = 3.755035, step = 101 (15.786 sec)\n",
      "INFO:tensorflow:global_step/sec: 8.54296\n",
      "INFO:tensorflow:loss = 0.25813138, step = 201 (11.715 sec)\n",
      "INFO:tensorflow:global_step/sec: 8.68443\n",
      "INFO:tensorflow:loss = 1.6323699, step = 301 (11.500 sec)\n",
      "INFO:tensorflow:global_step/sec: 8.6854\n",
      "INFO:tensorflow:loss = 3.6209857, step = 401 (11.516 sec)\n",
      "INFO:tensorflow:global_step/sec: 8.62387\n",
      "INFO:tensorflow:loss = 0.5427735, step = 501 (11.606 sec)\n",
      "INFO:tensorflow:Saving checkpoints for 600 into C:\\Users\\hharshit\\AppData\\Local\\Temp\\tmpkldde9z6\\model.ckpt.\n",
      "INFO:tensorflow:Loss for final step: 0.597534.\n",
      "INFO:tensorflow:Calling model_fn.\n",
      "INFO:tensorflow:Done calling model_fn.\n",
      "INFO:tensorflow:Graph was finalized.\n",
      "INFO:tensorflow:Restoring parameters from C:\\Users\\hharshit\\AppData\\Local\\Temp\\tmpkldde9z6\\model.ckpt-600\n",
      "INFO:tensorflow:Running local_init_op.\n",
      "INFO:tensorflow:Done running local_init_op.\n"
     ]
    }
   ],
   "source": [
    "import tensorflow as tf\n",
    "\n",
    "X = vect_df.iloc[:,:-1]\n",
    "y = vect_df['intent']\n",
    "X_train,X_test,y_train,y_test = split_data(X,y)\n",
    "\n",
    "X_train.columns = [col.strip() for col in X_train.columns]\n",
    "\n",
    "feat_cols = []\n",
    "for col in X_train.columns:\n",
    "    feat_cols.append(tf.feature_column.numeric_column(col))\n",
    "\n",
    "input_func = tf.estimator.inputs.pandas_input_fn(x = X_train, y=y_train,batch_size=10,num_epochs=5,shuffle=True)\n",
    "classifier = tf.estimator.DNNClassifier(hidden_units=[1024,512,256],n_classes=21,feature_columns=feat_cols)\n",
    "\n",
    "classifier.train(input_fn = input_func, steps=600)\n",
    "\n",
    "pred_fn = tf.estimator.inputs.pandas_input_fn(x=X_test,batch_size=len(X_test),shuffle=False)\n",
    "predictions = list(classifier.predict(input_fn=pred_fn))\n"
   ]
  },
  {
   "cell_type": "code",
   "execution_count": 132,
   "metadata": {},
   "outputs": [
    {
     "name": "stdout",
     "output_type": "stream",
     "text": [
      "             precision    recall  f1-score   support\n",
      "\n",
      "          0       0.77      1.00      0.87        10\n",
      "          1       0.84      0.73      0.78        22\n",
      "          2       0.67      0.86      0.75         7\n",
      "          3       0.83      1.00      0.91         5\n",
      "          4       0.53      0.73      0.62        11\n",
      "          5       0.69      1.00      0.82         9\n",
      "          6       1.00      0.67      0.80         9\n",
      "          7       0.00      0.00      0.00         8\n",
      "          8       0.94      0.92      0.93       113\n",
      "          9       1.00      1.00      1.00        27\n",
      "         10       1.00      1.00      1.00        35\n",
      "         11       0.99      0.95      0.97       153\n",
      "         12       0.90      0.94      0.92        47\n",
      "         13       0.92      0.96      0.94        47\n",
      "         14       0.85      0.79      0.81        14\n",
      "         15       0.97      1.00      0.99        37\n",
      "         16       1.00      1.00      1.00        30\n",
      "         17       0.98      0.93      0.95        55\n",
      "         18       0.87      0.99      0.92        68\n",
      "         19       0.96      0.92      0.94        51\n",
      "         20       0.92      0.94      0.93        77\n",
      "\n",
      "avg / total       0.92      0.93      0.92       835\n",
      "\n"
     ]
    }
   ],
   "source": [
    "final_preds = []\n",
    "\n",
    "for pred in predictions:\n",
    "    final_preds.append(pred['class_ids'][0])\n",
    "\n",
    "print(classification_report(y_test,final_preds))"
   ]
  },
  {
   "cell_type": "markdown",
   "metadata": {},
   "source": [
    "**As it can be seen that neural networks are performing at comparable accuracy to other machine learning models. The reason being less amount of data. **"
   ]
  },
  {
   "cell_type": "markdown",
   "metadata": {},
   "source": [
    "## K-fold cross validation of SVM"
   ]
  },
  {
   "cell_type": "code",
   "execution_count": 145,
   "metadata": {},
   "outputs": [
    {
     "name": "stdout",
     "output_type": "stream",
     "text": [
      "[0.96414343 0.93227092 0.93227092 0.95219124 0.964      0.956\n",
      " 0.952      0.976      0.94       0.924     ]\n",
      "Accuracy score: 0.95 +/- 0.02\n"
     ]
    }
   ],
   "source": [
    "X = vect_df.iloc[:,:-1]\n",
    "y = vect_df['intent']\n",
    "X_train,X_test,y_train,y_test = split_data(X,y)\n",
    "\n",
    "from sklearn.model_selection import KFold\n",
    "from sklearn.metrics import accuracy_score\n",
    "\n",
    "kfold = KFold(n_splits=10,shuffle=True)\n",
    "acc = np.array([])\n",
    "for train_idx,test_idx in kfold.split(X_train,y_train):\n",
    "    X_train_cv,y_train_cv = X_train.iloc[train_idx], y_train.iloc[train_idx]\n",
    "    X_test_cv, y_test_cv = X_train.iloc[test_idx], y_train.iloc[test_idx]\n",
    "    \n",
    "    clf = svm.LinearSVC()\n",
    "    clf.fit(X_train_cv, y_train_cv)\n",
    "    predictions = clf.predict(X_test_cv)\n",
    "    \n",
    "    acc = np.append(acc, accuracy_score(y_test_cv,predictions))\n",
    "print(acc)\n",
    "print(\"Accuracy score: %0.2f +/- %0.2f\" %(acc.mean(),acc.std()))\n"
   ]
  },
  {
   "cell_type": "markdown",
   "metadata": {},
   "source": [
    "## Stratified K-Fold cross validation for SVM"
   ]
  },
  {
   "cell_type": "code",
   "execution_count": 146,
   "metadata": {},
   "outputs": [
    {
     "name": "stdout",
     "output_type": "stream",
     "text": [
      "[0.95366795 0.94208494 0.95703125 0.96837945 0.95219124 0.96787149\n",
      " 0.92307692 0.97154472 0.95901639 0.975     ]\n",
      "Accuracy score: 0.96 +/- 0.01\n"
     ]
    }
   ],
   "source": [
    "from sklearn.model_selection import StratifiedKFold\n",
    "skf = StratifiedKFold(n_splits=10,shuffle=True)\n",
    "acc = np.array([])\n",
    "for train_idx,test_idx in skf.split(X_train,y_train):\n",
    "    X_train_cv,y_train_cv = X_train.iloc[train_idx], y_train.iloc[train_idx]\n",
    "    X_test_cv, y_test_cv = X_train.iloc[test_idx], y_train.iloc[test_idx]\n",
    "    \n",
    "    clf = svm.LinearSVC()\n",
    "    clf.fit(X_train_cv, y_train_cv)\n",
    "    predictions = clf.predict(X_test_cv)\n",
    "    \n",
    "    acc = np.append(acc, accuracy_score(y_test_cv,predictions))\n",
    "print(acc)\n",
    "print(\"Accuracy score: %0.2f +/- %0.2f\" %(acc.mean(),acc.std()))\n"
   ]
  },
  {
   "cell_type": "markdown",
   "metadata": {},
   "source": [
    "**As it can be seen from the cross validation scores of both the methods that there are high chances that model is free of bias and variance**"
   ]
  },
  {
   "cell_type": "markdown",
   "metadata": {},
   "source": [
    "## Saving the model : Serialization and Deserialization"
   ]
  },
  {
   "cell_type": "code",
   "execution_count": 133,
   "metadata": {},
   "outputs": [
    {
     "data": {
      "text/html": [
       "<div>\n",
       "<style scoped>\n",
       "    .dataframe tbody tr th:only-of-type {\n",
       "        vertical-align: middle;\n",
       "    }\n",
       "\n",
       "    .dataframe tbody tr th {\n",
       "        vertical-align: top;\n",
       "    }\n",
       "\n",
       "    .dataframe thead th {\n",
       "        text-align: right;\n",
       "    }\n",
       "</style>\n",
       "<table border=\"1\" class=\"dataframe\">\n",
       "  <thead>\n",
       "    <tr style=\"text-align: right;\">\n",
       "      <th></th>\n",
       "      <th>NaiveBayes</th>\n",
       "      <th>logisticRegression</th>\n",
       "      <th>RandomForest</th>\n",
       "      <th>XGBoost</th>\n",
       "      <th>SVM</th>\n",
       "    </tr>\n",
       "  </thead>\n",
       "  <tbody>\n",
       "    <tr>\n",
       "      <th>Count Vectors</th>\n",
       "      <td>0.891018</td>\n",
       "      <td>0.936527</td>\n",
       "      <td>0.908982</td>\n",
       "      <td>0.917365</td>\n",
       "      <td>0.952096</td>\n",
       "    </tr>\n",
       "    <tr>\n",
       "      <th>Word tf-idf</th>\n",
       "      <td>0.887425</td>\n",
       "      <td>0.877844</td>\n",
       "      <td>0.916168</td>\n",
       "      <td>0.910180</td>\n",
       "      <td>0.953293</td>\n",
       "    </tr>\n",
       "    <tr>\n",
       "      <th>ngram tf-idf</th>\n",
       "      <td>0.922156</td>\n",
       "      <td>0.791617</td>\n",
       "      <td>0.846707</td>\n",
       "      <td>0.782036</td>\n",
       "      <td>0.925749</td>\n",
       "    </tr>\n",
       "    <tr>\n",
       "      <th>character tf-idf</th>\n",
       "      <td>0.901796</td>\n",
       "      <td>0.882635</td>\n",
       "      <td>0.913772</td>\n",
       "      <td>0.938922</td>\n",
       "      <td>0.952096</td>\n",
       "    </tr>\n",
       "  </tbody>\n",
       "</table>\n",
       "</div>"
      ],
      "text/plain": [
       "                  NaiveBayes  logisticRegression  RandomForest   XGBoost  \\\n",
       "Count Vectors       0.891018            0.936527      0.908982  0.917365   \n",
       "Word tf-idf         0.887425            0.877844      0.916168  0.910180   \n",
       "ngram tf-idf        0.922156            0.791617      0.846707  0.782036   \n",
       "character tf-idf    0.901796            0.882635      0.913772  0.938922   \n",
       "\n",
       "                       SVM  \n",
       "Count Vectors     0.952096  \n",
       "Word tf-idf       0.953293  \n",
       "ngram tf-idf      0.925749  \n",
       "character tf-idf  0.952096  "
      ]
     },
     "execution_count": 133,
     "metadata": {},
     "output_type": "execute_result"
    }
   ],
   "source": [
    "acc_df"
   ]
  },
  {
   "cell_type": "markdown",
   "metadata": {},
   "source": [
    "From the above dataframe we can see that **SVM** model with count vectors and character tf-idf feature vectors gives us maximum accuracy. So, I will save the **SVM** model with count vectors as feature vector by performing serialization or pickling"
   ]
  },
  {
   "cell_type": "code",
   "execution_count": 135,
   "metadata": {},
   "outputs": [
    {
     "data": {
      "text/plain": [
       "['SVM_hybrid.pkl']"
      ]
     },
     "execution_count": 135,
     "metadata": {},
     "output_type": "execute_result"
    }
   ],
   "source": [
    "from sklearn.externals import joblib\n",
    "from sklearn import svm\n",
    "\n",
    "SVM = svm.LinearSVC()\n",
    "X = vect_df.iloc[:,:-1]\n",
    "y = vect_df['intent']\n",
    "X_train,X_test,y_train,y_test = split_data(X,y)\n",
    "SVM.fit(X_train,y_train)\n",
    "\n",
    "# dumping of SVM model\n",
    "joblib.dump(SVM,'SVM_hybrid.pkl')"
   ]
  },
  {
   "cell_type": "code",
   "execution_count": 136,
   "metadata": {},
   "outputs": [],
   "source": [
    "# This block of code creates a dictionary intent_dict so as to map the integer output of the classifier to actual intent values\n",
    "keys = []\n",
    "values = []\n",
    "for i in tfidf_vect_df['intent'].value_counts().iteritems():\n",
    "    keys.append(i[0])\n",
    "\n",
    "for j in data_df['intent'].value_counts().iteritems():\n",
    "    values.append(j[0])\n",
    "\n",
    "intent_dict = dict((keys[i],values[i]) for i in range(len(keys)))"
   ]
  },
  {
   "cell_type": "code",
   "execution_count": 137,
   "metadata": {},
   "outputs": [
    {
     "data": {
      "text/plain": [
       "{11: 'faq.application_process',\n",
       " 8: 'contact.contact',\n",
       " 20: 'faq.borrow_use',\n",
       " 18: 'faq.biz_simpler',\n",
       " 19: 'faq.borrow_limit',\n",
       " 17: 'faq.biz_new',\n",
       " 13: 'faq.apply_register',\n",
       " 12: 'faq.approval_time',\n",
       " 10: 'faq.address_proof',\n",
       " 15: 'faq.banking_option_missing',\n",
       " 16: 'faq.biz_category_missing',\n",
       " 9: 'faq.aadhaar_missing',\n",
       " 1: 'commonQ.bot',\n",
       " 0: 'commonQ.assist',\n",
       " 4: 'commonQ.name',\n",
       " 14: 'faq.bad_service',\n",
       " 2: 'commonQ.how',\n",
       " 5: 'commonQ.not_giving',\n",
       " 7: 'commonQ.query',\n",
       " 6: 'commonQ.wait',\n",
       " 3: 'commonQ.just_details'}"
      ]
     },
     "execution_count": 137,
     "metadata": {},
     "output_type": "execute_result"
    }
   ],
   "source": [
    "intent_dict"
   ]
  },
  {
   "cell_type": "markdown",
   "metadata": {},
   "source": [
    "## Function for predicting values by taking string inputs"
   ]
  },
  {
   "cell_type": "code",
   "execution_count": 138,
   "metadata": {},
   "outputs": [],
   "source": [
    "def predict():\n",
    "    print('Enter your statement: ')\n",
    "    statement = input()\n",
    "    #tokens = statement.split()\n",
    "    #tokens = [str(TextBlob(word).correct()) for word in tokens]\n",
    "    #statement = \" \".join(tokens)\n",
    "    \n",
    "    vect = CountVectorizer(vocabulary= vect_df.iloc[:,:-1].columns)\n",
    "\n",
    "    x = vect.fit_transform([statement])\n",
    "    \n",
    "    svmClassifier = joblib.load(r'D:\\ML Projects\\intent\\SVM_hybrid.pkl')\n",
    "    pred = svmClassifier.predict(x.toarray())\n",
    "    print(intent_dict[pred[0]])"
   ]
  },
  {
   "cell_type": "code",
   "execution_count": 90,
   "metadata": {},
   "outputs": [
    {
     "name": "stdout",
     "output_type": "stream",
     "text": [
      "Enter your statement: \n",
      "kya aap meri madad kar skte hai\n",
      "commonQ.assist\n",
      "Enter your statement: \n",
      "loan k lie kaise apply karu\n",
      "faq.application_process\n",
      "Enter your statement: \n",
      "which type of loan is good for small business\n",
      "faq.biz_simpler\n",
      "Enter your statement: \n",
      "chote business k lie kis tarah ka loan accha hai\n",
      "faq.biz_simpler\n",
      "Enter your statement: \n",
      "kaise ho\n",
      "commonQ.how\n"
     ]
    }
   ],
   "source": [
    "# These are just sample test cases to check the accuracy of model. \n",
    "i=0\n",
    "while i<5:\n",
    "    predict()\n",
    "    i+=1"
   ]
  }
 ],
 "metadata": {
  "kernelspec": {
   "display_name": "Python 3",
   "language": "python",
   "name": "python3"
  },
  "language_info": {
   "codemirror_mode": {
    "name": "ipython",
    "version": 3
   },
   "file_extension": ".py",
   "mimetype": "text/x-python",
   "name": "python",
   "nbconvert_exporter": "python",
   "pygments_lexer": "ipython3",
   "version": "3.6.5"
  }
 },
 "nbformat": 4,
 "nbformat_minor": 2
}
